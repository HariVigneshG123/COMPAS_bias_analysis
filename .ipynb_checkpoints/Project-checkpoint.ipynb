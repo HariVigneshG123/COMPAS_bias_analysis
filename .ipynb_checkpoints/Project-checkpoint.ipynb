{
 "cells": [
  {
   "cell_type": "code",
   "execution_count": 1,
   "id": "357f4191",
   "metadata": {},
   "outputs": [],
   "source": [
    "import pandas as pd\n",
    "import numpy as np\n",
    "from sklearn.decomposition import PCA\n",
    "from sklearn.model_selection import train_test_split\n",
    "from sklearn.linear_model import LogisticRegression\n",
    "from sklearn.preprocessing import MinMaxScaler,StandardScaler\n",
    "import matplotlib.pyplot as plt\n",
    "import matplotlib.pyplot as plt2\n",
    "import matplotlib.pyplot as plt3\n",
    "import matplotlib.pyplot as plt4\n",
    "import seaborn as sns"
   ]
  },
  {
   "cell_type": "code",
   "execution_count": 2,
   "id": "e0bfd267",
   "metadata": {},
   "outputs": [],
   "source": [
    "#Dataframe creation from input datafile\n",
    "def create_df(file):\n",
    "    return pd.read_csv(file)"
   ]
  },
  {
   "cell_type": "code",
   "execution_count": 3,
   "id": "47f20f3e",
   "metadata": {},
   "outputs": [],
   "source": [
    "#Feature Selection\n",
    "def reduce_features(df,reduced_features):\n",
    "    return pd.DataFrame(df, columns = reduced_features)"
   ]
  },
  {
   "cell_type": "code",
   "execution_count": 4,
   "id": "348e808b",
   "metadata": {},
   "outputs": [],
   "source": [
    "#Converting String to integer values for benefit of logistic regression which requires numerical data\n",
    "def map_race(df):\n",
    "    mapping = {'African-American' : 0, 'Asian' : 1, 'Caucasian' : 2, 'Hispanic' : 3,'Native American' : 4, 'Other' : 5}\n",
    "    return df.replace({'race' : mapping})"
   ]
  },
  {
   "cell_type": "code",
   "execution_count": 5,
   "id": "4802987f",
   "metadata": {},
   "outputs": [],
   "source": [
    "#Ground truth\n",
    "def get_y_actual(df):\n",
    "    return df['two_year_recid'].to_numpy()"
   ]
  },
  {
   "cell_type": "code",
   "execution_count": 6,
   "id": "33a2bb77",
   "metadata": {},
   "outputs": [],
   "source": [
    "#Array containing the races available in dataset\n",
    "def unique_array_races(df):\n",
    "    return np.unique(df['race'].to_numpy())"
   ]
  },
  {
   "cell_type": "code",
   "execution_count": 7,
   "id": "11f19c0e",
   "metadata": {},
   "outputs": [],
   "source": [
    "#Calculating race wise recidivism and no recidivism count. \n",
    "#Count for each race correspond indexes in array that were assigned in initial string to numerical reassign\n",
    "def get_race_wise_count(df):\n",
    "    race_recidivism_count = [0,0,0,0,0,0]\n",
    "    race_norecidivism_count = [0,0,0,0,0,0]\n",
    "    for i in range (len(df['race'])):\n",
    "        if(df.iloc[i,-1] == 0):\n",
    "            race_norecidivism_count[df['race'].iloc[i]] += 1\n",
    "        else:\n",
    "            race_recidivism_count[df['race'].iloc[i]] += 1\n",
    "    return race_recidivism_count, race_norecidivism_count"
   ]
  },
  {
   "cell_type": "code",
   "execution_count": 8,
   "id": "64efe574",
   "metadata": {},
   "outputs": [],
   "source": [
    "def plot_rec_vs_nonrec_allrace(race_recidivism_count, race_nonrecidivism_count, race_array):\n",
    "    w = 0.4\n",
    "    bar1 = np.arange(6)\n",
    "    bar2 = [i+w for i in bar1]\n",
    "    plt3.bar(bar1,race_norecidivism_count,w,color = 'green',label = 'people not recidivated')\n",
    "    plt3.bar(bar2,race_recidivism_count,w,color = 'red',label = 'people recidivated')\n",
    "    plt3.title(\"Recidivated vs Not Recidivated for each race\")\n",
    "    plt3.xlabel('Race')\n",
    "    plt3.ylabel('count')\n",
    "#     plt3.xticks(bar1,race_array)\n",
    "    plt3.legend()\n"
   ]
  },
  {
   "cell_type": "code",
   "execution_count": 9,
   "id": "23dbc3a5",
   "metadata": {},
   "outputs": [],
   "source": [
    "#Calculating race wise decile score count\n",
    "def get_race_wise_decile_count(df):\n",
    "    decile_afam = df.loc[df['race'] == 0,'decile_score'].values\n",
    "    decile_asian = df.loc[df['race'] == 1,'decile_score'].values\n",
    "    decile_cau = df.loc[df['race'] == 2,'decile_score'].values\n",
    "    decile_his = df.loc[df['race'] == 3,'decile_score'].values\n",
    "    decile_nat = df.loc[df['race'] == 4,'decile_score'].values\n",
    "    decile_oth = df.loc[df['race'] == 5,'decile_score'].values\n",
    "    return decile_afam, decile_asian, decile_cau, decile_his, decile_nat, decile_oth"
   ]
  },
  {
   "cell_type": "code",
   "execution_count": 10,
   "id": "b84ccc4e",
   "metadata": {},
   "outputs": [],
   "source": [
    "def plot_histogram_decile_score_against_races(decile_afam, decile_asian, decile_cau, decile_his, decile_nat, decile_oth):\n",
    "    plt.rcParams[\"figure.figsize\"] = (15,8)\n",
    "    plt.hist([decile_afam, decile_asian, decile_cau, decile_his, decile_nat, decile_oth],width = 0.15)\n",
    "    plt.title(\"Histogram of distirbution of decile_score for each race\")\n",
    "    plt.xlabel('decile_score')\n",
    "    plt.ylabel('count')\n",
    "    plt.legend(['African-American','Asian','Caucasian','Hispanic','Native American','Other'])"
   ]
  },
  {
   "cell_type": "code",
   "execution_count": 11,
   "id": "dd04e295",
   "metadata": {},
   "outputs": [],
   "source": [
    "def african_american_vs_caucasian_decile_score(decile_afam, decile_cau):\n",
    "    plt2.rcParams[\"figure.figsize\"] = (15,8)\n",
    "    plt2.hist([decile_afam,decile_cau])\n",
    "    plt2.title(\"Histogram of distirbution of decile_score African Americans vs Caucasians\")\n",
    "    plt2.xlabel('decile_score')\n",
    "    plt2.ylabel('count')\n",
    "    plt2.legend(['African-American','Caucasian'])"
   ]
  },
  {
   "cell_type": "code",
   "execution_count": 12,
   "id": "ca7b8372",
   "metadata": {},
   "outputs": [],
   "source": [
    "# Calculating accuracy of prediction.\n",
    "# Note: Accuracy of the LR model is tested against Y_labels not against ground truth\n",
    "def calculate_model_accuracy(pred, labels_test_arr):\n",
    "    count = 0\n",
    "    for i in range (len(pred)):\n",
    "        if(pred[i] == labels_test_arr[i]):\n",
    "            count+=1\n",
    "    avg = (count/len(pred))*100\n",
    "    return round(avg,2)"
   ]
  },
  {
   "cell_type": "code",
   "execution_count": 13,
   "id": "3744bde9",
   "metadata": {},
   "outputs": [],
   "source": [
    "#Post prediction study vs Ground truth\n",
    "#Calculating race wise false positives. Also for African american and Caucasians for Opprtunity cost /unsure/\n",
    "def get_false_positives(df, pred, start_count, recid_status):\n",
    "    false_positives = []\n",
    "    af_am_fp = 0\n",
    "    ca_fp = 0\n",
    "    race_false_positives = [0,0,0,0,0,0]\n",
    "    for i in range (len(pred)):\n",
    "        if(pred[i] == 1 and recid_status[start_count+i] == 0):\n",
    "            race_false_positives[df['race'].iloc[i]] += 1\n",
    "            false_positives.append(df['race'].iloc[i])\n",
    "            if(df['race'].iloc[i] == 0):\n",
    "                af_am_fp += 1\n",
    "            if(df['race'].iloc[i] == 2):\n",
    "                ca_fp += 1\n",
    "    return false_positives, af_am_fp, ca_fp, race_false_positives"
   ]
  },
  {
   "cell_type": "code",
   "execution_count": 1,
   "id": "85838ccc",
   "metadata": {},
   "outputs": [],
   "source": [
    "def get_true_positives(df, pred, start_count, recid_status):\n",
    "    true_positives = []\n",
    "    race_true_positives = [0,0,0,0,0,0]\n",
    "    for i in range (len(pred)):\n",
    "        if(pred[i] == 1 and recid_status[start_count+i] == 1):\n",
    "            race_true_positives[df['race'].iloc[i]] += 1\n",
    "            true_positives.append(df['race'].iloc[i])\n",
    "\n",
    "    return true_positives, race_true_positives"
   ]
  },
  {
   "cell_type": "code",
   "execution_count": 14,
   "id": "dfd415d7",
   "metadata": {},
   "outputs": [],
   "source": [
    "def print_fp_ratio_by_races(false_positives, af_am_fp, ca_fp):\n",
    "    if(len(false_positives) != 0):\n",
    "        perc_af_am_fp = (af_am_fp / len(false_positives))*100\n",
    "        perc_cauc_fp = (ca_fp / len(false_positives))*100\n",
    "    print(\"Ratio of African americans in false positive: \",af_am_fp,\"/\",len(false_positives))\n",
    "    print(\"Percentage: \",perc_af_am_fp)\n",
    "    print(\"Ratio of Caucasians in false positive: \",ca_fp,\"/\",len(false_positives))\n",
    "    print(\"Percentage: \",perc_cauc_fp)"
   ]
  },
  {
   "cell_type": "code",
   "execution_count": 15,
   "id": "25bab6f6",
   "metadata": {},
   "outputs": [],
   "source": [
    "# def plot_fp_vs_race(race_false_positives):\n",
    "#     plt.rcParams[\"figure.figsize\"] = (8,4.5)\n",
    "#     plt.bar(race_false_positives)\n",
    "#     plt.title(\"False positive count for each race\")"
   ]
  },
  {
   "cell_type": "code",
   "execution_count": 16,
   "id": "07d612b3",
   "metadata": {},
   "outputs": [],
   "source": [
    "# Accuracy of prediction vs ground Truth\n",
    "def get_confusion_matrix_values(pred, start_count, recid_status):\n",
    "    fp = 0; fn = 0; tp = 0; tn = 0;\n",
    "    for i in range (len(pred)):\n",
    "        if(pred[i] == 1 and recid_status[start_count+i] == 0):\n",
    "            fp += 1\n",
    "        if(pred[i] == 0 and recid_status[start_count+i] == 1):\n",
    "            fn += 1\n",
    "        if(pred[i] == 1 and recid_status[start_count+i] == 1):\n",
    "            tp += 1\n",
    "        if(pred[i] == 0 and recid_status[start_count+i] == 0):\n",
    "            tn += 1\n",
    "    return fp, fn, tp, tn"
   ]
  },
  {
   "cell_type": "code",
   "execution_count": 17,
   "id": "5b3ce2f6",
   "metadata": {},
   "outputs": [],
   "source": [
    "def plot_pred_vs_actual(fp, fn, tp, tn):\n",
    "    plt4.bar(['fp','fn','tp','tn'],[fp,fn,tp,tn])\n",
    "    plt4.title(\"Prediction vs Actual\")\n",
    "    plt4.xlabel('accuracy status')\n",
    "    plt4.ylabel('count')"
   ]
  },
  {
   "cell_type": "code",
   "execution_count": 18,
   "id": "f8d68827",
   "metadata": {},
   "outputs": [],
   "source": [
    "def print_stats(fp, fn, tp, tn, pred):\n",
    "    fp_p = (fp/(tn+fp))*100\n",
    "    fn_p = (fn/(tp+fn))*100\n",
    "    tp_p = (tp/len(pred))*100\n",
    "    tn_p = (tn/len(pred))*100\n",
    "    acc = ((tp+tn)/len(pred))*100\n",
    "    #False positive rate\n",
    "    print(\"False positive: \",fp)\n",
    "    print(\"False positive rate: \",round(fp_p,2),\"%\")\n",
    "    #False Negative\n",
    "    print(\"False Negative: \",fn)\n",
    "    print(\"False Negative rate: \",round(fn_p,2),\"%\")\n",
    "    #True positive\n",
    "    print(\"True positive: \", tp)\n",
    "    print(\"True positive percentage: \",round(tp_p,2),\"%\")\n",
    "    print(\"Positive predicted value: \", round(tp/(tp+fp)*100,2), \"%\")\n",
    "    #True negative\n",
    "    print(\"True negative: \", tn)\n",
    "    print(\"True negative percentage: \",round(tn_p,2),\"%\")\n",
    "    print(\"Negative predicted value: \", round(tn/(tn+fn)*100,2), \"%\")\n",
    "    #Accuracy\n",
    "    print(\"Accuracy: \",round((tp+tn)/len(pred)*100,2),\"%\")"
   ]
  },
  {
   "cell_type": "markdown",
   "id": "c6baef1d",
   "metadata": {},
   "source": [
    "Init"
   ]
  },
  {
   "cell_type": "code",
   "execution_count": 19,
   "id": "544460b5",
   "metadata": {},
   "outputs": [],
   "source": [
    "reduced_features = ['age','race','juv_fel_count','juv_misd_count','juv_other_count','priors_count','is_violent_recid','decile_score','v_decile_score','priors_count','start','end','event', 'two_year_recid', 'labels']"
   ]
  },
  {
   "cell_type": "code",
   "execution_count": 20,
   "id": "31c2f64e",
   "metadata": {},
   "outputs": [],
   "source": [
    "file = \"compas-scores-two-years1.csv\""
   ]
  },
  {
   "cell_type": "code",
   "execution_count": 21,
   "id": "d986d156",
   "metadata": {},
   "outputs": [],
   "source": [
    "df = create_df(file)"
   ]
  },
  {
   "cell_type": "code",
   "execution_count": 22,
   "id": "24edc59b",
   "metadata": {},
   "outputs": [],
   "source": [
    "df_with_reduced_features = reduce_features(df,reduced_features)"
   ]
  },
  {
   "cell_type": "code",
   "execution_count": 23,
   "id": "345255eb",
   "metadata": {},
   "outputs": [],
   "source": [
    "df_post_mapping = map_race(df_with_reduced_features)"
   ]
  },
  {
   "cell_type": "code",
   "execution_count": null,
   "id": "4d4aa7bf",
   "metadata": {},
   "outputs": [],
   "source": []
  },
  {
   "cell_type": "markdown",
   "id": "8a9bcfbe",
   "metadata": {},
   "source": [
    "Executing Logistic Regression by making equal population of Caucasian and African Americans in the input dataset"
   ]
  },
  {
   "cell_type": "code",
   "execution_count": 24,
   "id": "56848202",
   "metadata": {},
   "outputs": [
    {
     "name": "stdout",
     "output_type": "stream",
     "text": [
      "(1795, 15) (1901, 15) (1488, 15) (966, 15)\n"
     ]
    }
   ],
   "source": [
    "Afam_Dataframe_norec = df_post_mapping[(df_post_mapping['race'] == 0) & (df_post_mapping['two_year_recid'] == 0)]\n",
    "Afam_Dataframe_rec = df_post_mapping[(df_post_mapping['race'] == 0) & (df_post_mapping['two_year_recid'] == 1)]\n",
    "Cau_Dataframe_norec = df_post_mapping[(df_post_mapping['race'] == 2) & (df_post_mapping['two_year_recid'] == 0)]\n",
    "Cau_Dataframe_rec = df_post_mapping[(df_post_mapping['race'] == 2) & (df_post_mapping['two_year_recid'] == 1)]\n",
    "print(Afam_Dataframe_norec.shape,Afam_Dataframe_rec.shape,Cau_Dataframe_norec.shape,Cau_Dataframe_rec.shape)\n",
    "Afam_Dataframe_norec_t = Afam_Dataframe_norec.sample(n=966)\n",
    "Afam_Dataframe_rec_t = Afam_Dataframe_rec.sample(n=966)\n",
    "Cau_Dataframe_norec_t = Cau_Dataframe_norec.sample(n=966)\n",
    "Cau_Dataframe_rec_t = Cau_Dataframe_rec.sample(n=966)\n",
    "Equalized_Dataframe = pd.concat([Afam_Dataframe_norec_t,Afam_Dataframe_rec_t,Cau_Dataframe_norec_t,Cau_Dataframe_rec_t],axis = 0)\n",
    "Equalized_Dataframe.to_csv(\"COMPAS_equal_dist.csv\")\n"
   ]
  },
  {
   "cell_type": "code",
   "execution_count": null,
   "id": "5d872e9e",
   "metadata": {},
   "outputs": [],
   "source": []
  },
  {
   "cell_type": "markdown",
   "id": "197a10d5",
   "metadata": {},
   "source": [
    "Without protected and all records"
   ]
  },
  {
   "cell_type": "code",
   "execution_count": 25,
   "id": "cfbb64c0",
   "metadata": {},
   "outputs": [
    {
     "name": "stdout",
     "output_type": "stream",
     "text": [
      "Accuracy of model:  95.55 %\n",
      "Ratio of African americans in false positive:  217 / 430\n",
      "Percentage:  50.46511627906977\n",
      "Ratio of Caucasians in false positive:  147 / 430\n",
      "Percentage:  34.18604651162791\n",
      "False positive:  430\n",
      "False positive rate:  33.28 %\n",
      "False Negative:  377\n",
      "False Negative rate:  34.62 %\n",
      "True positive:  712\n",
      "True positive percentage:  29.9 %\n",
      "Positive predicted value:  62.35 %\n",
      "True negative:  862\n",
      "True negative percentage:  36.2 %\n",
      "Negative predicted value:  69.57 %\n",
      "Accuracy:  66.11 %\n"
     ]
    },
    {
     "data": {
      "image/png": "[encoded data removed]",
      "text/plain": [
       "<Figure size 432x288 with 1 Axes>"
      ]
     },
     "metadata": {
      "needs_background": "light"
     },
     "output_type": "display_data"
    }
   ],
   "source": [
    "#Output labels -- LOGISTIC REGRESSION \n",
    "y_labels = df_post_mapping['labels']\n",
    "#y actual\n",
    "y_actual = get_y_actual(df_post_mapping)\n",
    "#deleting actaul values and labels\n",
    "df_with_x = df_post_mapping.copy()\n",
    "df_with_x.drop('labels', inplace=True, axis=1)\n",
    "df_with_x.drop('two_year_recid', inplace=True, axis=1)\n",
    "\n",
    "#array containing races\n",
    "races_array = unique_array_races(df_with_x)\n",
    "\n",
    "#get race wise count\n",
    "race_recidivism_count, race_norecidivism_count = get_race_wise_count(df_with_x)\n",
    "#plot rec vs non rec against each race\n",
    "plot_rec_vs_nonrec_allrace(race_recidivism_count, race_norecidivism_count, races_array)\n",
    "\n",
    "#get race wise decile scores\n",
    "decile_afam, decile_asian, decile_cau, decile_his, decile_nat, decile_oth = get_race_wise_decile_count(df_with_x)\n",
    "#plot histogram\n",
    "plot_histogram_decile_score_against_races(decile_afam, decile_asian, decile_cau, decile_his, decile_nat, decile_oth)\n",
    "\n",
    "#af-american decile score vs cau decile score\n",
    "african_american_vs_caucasian_decile_score(decile_afam, decile_cau)\n",
    "\n",
    "# Train test split. Train : 2/3 of total dataset\n",
    "data_train,data_test,labels_train,labels_test = train_test_split(df_with_x, y_labels,test_size = 0.33,random_state = 42,shuffle=False)\n",
    "\n",
    "# Training model using logistic regression\n",
    "import warnings\n",
    "warnings.filterwarnings('ignore')\n",
    "lr = LogisticRegression()\n",
    "lr.fit(data_train,labels_train)\n",
    "\n",
    "# Predicting for test labels\n",
    "pred = lr.predict(data_test)\n",
    "\n",
    "labels_test_arr = labels_test.values\n",
    "\n",
    "#model accuracy\n",
    "accuracy = calculate_model_accuracy(pred, labels_test_arr)\n",
    "print(\"Accuracy of model: \",accuracy, \"%\")\n",
    "\n",
    "false_positives, af_am_fp, ca_fp, race_false_positives = get_false_positives(df_with_x, pred, len(data_train), y_actual)\n",
    "print_fp_ratio_by_races(false_positives, af_am_fp, ca_fp)\n",
    "# plot_fp_vs_race(race_false_positives)\n",
    "\n",
    "fp, fn, tp, tn = get_confusion_matrix_values(pred, len(data_train), y_actual)\n",
    "\n",
    "plot_pred_vs_actual(fp, fn, tp, tn)\n",
    "\n",
    "print_stats(fp, fn, tp, tn, pred)\n"
   ]
  },
  {
   "cell_type": "code",
   "execution_count": null,
   "id": "48f5b7be",
   "metadata": {},
   "outputs": [],
   "source": []
  },
  {
   "cell_type": "markdown",
   "id": "d03caa62",
   "metadata": {},
   "source": [
    "Without protected and Equal population records in Logistic Regression"
   ]
  },
  {
   "cell_type": "code",
   "execution_count": 26,
   "id": "dc2e564c",
   "metadata": {},
   "outputs": [
    {
     "name": "stdout",
     "output_type": "stream",
     "text": [
      "[833, 0, 798, 0, 0, 0]\n",
      "Accuracy of model:  63.79 %\n",
      "Ratio of African americans in false positive:  39 / 39\n",
      "Percentage:  100.0\n",
      "Ratio of Caucasians in false positive:  0 / 39\n",
      "Percentage:  0.0\n",
      "False positive:  39\n",
      "False positive rate:  12.58 %\n",
      "False Negative:  260\n",
      "False Negative rate:  26.92 %\n",
      "True positive:  706\n",
      "True positive percentage:  55.33 %\n",
      "Positive predicted value:  94.77 %\n",
      "True negative:  271\n",
      "True negative percentage:  21.24 %\n",
      "Negative predicted value:  51.04 %\n",
      "Accuracy:  76.57 %\n"
     ]
    },
    {
     "data": {
      "image/png": "[encoded data removed]",
      "text/plain": [
       "<Figure size 1080x576 with 1 Axes>"
      ]
     },
     "metadata": {
      "needs_background": "light"
     },
     "output_type": "display_data"
    }
   ],
   "source": [
    "#Output labels -- LOGISTIC REGRESSION EQUAL DF\n",
    "y_labels = Equalized_Dataframe['labels']\n",
    "#y actual\n",
    "y_actual = get_y_actual(Equalized_Dataframe)\n",
    "#deleting actaul values and labels\n",
    "df_with_x = Equalized_Dataframe.copy()\n",
    "df_with_x.drop('labels', inplace=True, axis=1)\n",
    "df_with_x.drop('two_year_recid', inplace=True, axis=1)\n",
    "\n",
    "#array containing races\n",
    "races_array = unique_array_races(df_with_x)\n",
    "\n",
    "#get race wise count\n",
    "race_recidivism_count, race_norecidivism_count = get_race_wise_count(df_with_x)\n",
    "print(race_recidivism_count)\n",
    "#plot rec vs non rec against each race\n",
    "plot_rec_vs_nonrec_allrace(race_recidivism_count, race_norecidivism_count, races_array)\n",
    "\n",
    "#get race wise decile scores\n",
    "decile_afam, decile_asian, decile_cau, decile_his, decile_nat, decile_oth = get_race_wise_decile_count(df_with_x)\n",
    "#plot histogram\n",
    "plot_histogram_decile_score_against_races(decile_afam, decile_asian, decile_cau, decile_his, decile_nat, decile_oth)\n",
    "\n",
    "#af-american decile score vs cau decile score\n",
    "african_american_vs_caucasian_decile_score(decile_afam, decile_cau)\n",
    "\n",
    "\n",
    "df_without_race = df_with_x.copy()\n",
    "df_without_race.drop('race', inplace=True, axis=1)\n",
    "df_without_race.drop('age', inplace=True, axis=1)\n",
    "df_without_race.drop('decile_score', inplace=True, axis=1)\n",
    "df_without_race.drop('v_decile_score', inplace=True, axis=1)\n",
    "# df_without_race.drop('priors_count', inplace=True, axis=1)\n",
    "\n",
    "data_train,data_test,labels_train,labels_test = train_test_split(df_without_race, y_labels,test_size = 0.33,random_state = 42,shuffle=False)\n",
    "\n",
    "# Train test split. Train : 2/3 of total dataset\n",
    "# data_train,data_test,labels_train,labels_test = train_test_split(df_with_x, y_labels,test_size = 0.33,random_state = 42,shuffle=False)\n",
    "\n",
    "# Training model using logistic regression\n",
    "import warnings\n",
    "warnings.filterwarnings('ignore')\n",
    "lr = LogisticRegression()\n",
    "lr.fit(data_train,labels_train)\n",
    "\n",
    "# Predicting for test labels\n",
    "pred = lr.predict(data_test)\n",
    "\n",
    "labels_test_arr = labels_test.values\n",
    "\n",
    "#model accuracy\n",
    "accuracy = calculate_model_accuracy(pred, labels_test_arr)\n",
    "print(\"Accuracy of model: \",accuracy, \"%\")\n",
    "\n",
    "false_positives, af_am_fp, ca_fp, race_false_positives = get_false_positives(df_with_x, pred, len(data_train), y_actual)\n",
    "print_fp_ratio_by_races(false_positives, af_am_fp, ca_fp)\n",
    "# plot_fp_vs_race(race_false_positives)\n",
    "\n",
    "fp, fn, tp, tn = get_confusion_matrix_values(pred, len(data_train), y_actual)\n",
    "\n",
    "plot_pred_vs_actual(fp, fn, tp, tn)\n",
    "\n",
    "print_stats(fp, fn, tp, tn, pred)\n"
   ]
  },
  {
   "cell_type": "code",
   "execution_count": null,
   "id": "59eb5621",
   "metadata": {},
   "outputs": [],
   "source": []
  },
  {
   "cell_type": "markdown",
   "id": "202330a6",
   "metadata": {},
   "source": [
    "Without protected and Equal population records in Decision Tree"
   ]
  },
  {
   "cell_type": "code",
   "execution_count": 27,
   "id": "141ed12f",
   "metadata": {},
   "outputs": [
    {
     "name": "stdout",
     "output_type": "stream",
     "text": [
      "Accuracy of model:  100.0 %\n",
      "Ratio of African americans in false positive:  78 / 78\n",
      "Percentage:  100.0\n",
      "Ratio of Caucasians in false positive:  0 / 78\n",
      "Percentage:  0.0\n",
      "False positive:  78\n",
      "False positive rate:  25.16 %\n",
      "False Negative:  461\n",
      "False Negative rate:  47.72 %\n",
      "True positive:  505\n",
      "True positive percentage:  39.58 %\n",
      "Positive predicted value:  86.62 %\n",
      "True negative:  232\n",
      "True negative percentage:  18.18 %\n",
      "Negative predicted value:  33.48 %\n",
      "Accuracy:  57.76 %\n"
     ]
    },
    {
     "data": {
      "image/png": "[encoded data removed]",
      "text/plain": [
       "<Figure size 1080x576 with 1 Axes>"
      ]
     },
     "metadata": {
      "needs_background": "light"
     },
     "output_type": "display_data"
    }
   ],
   "source": [
    "#Output labels --DECISION TREE\n",
    "y_labels = Equalized_Dataframe['labels']\n",
    "#y actual\n",
    "y_actual = get_y_actual(Equalized_Dataframe)\n",
    "#deleting actaul values and labels\n",
    "df_with_x = Equalized_Dataframe.copy()\n",
    "df_with_x.drop('labels', inplace=True, axis=1)\n",
    "df_with_x.drop('two_year_recid', inplace=True, axis=1)\n",
    "\n",
    "#array containing races\n",
    "races_array = unique_array_races(df_with_x)\n",
    "\n",
    "#get race wise count\n",
    "race_recidivism_count, race_norecidivism_count = get_race_wise_count(df_with_x)\n",
    "\n",
    "#plot rec vs non rec against each race\n",
    "plot_rec_vs_nonrec_allrace(race_recidivism_count, race_norecidivism_count, races_array)\n",
    "\n",
    "#get race wise decile scores\n",
    "decile_afam, decile_asian, decile_cau, decile_his, decile_nat, decile_oth = get_race_wise_decile_count(df_with_x)\n",
    "#plot histogram\n",
    "plot_histogram_decile_score_against_races(decile_afam, decile_asian, decile_cau, decile_his, decile_nat, decile_oth)\n",
    "\n",
    "#af-american decile score vs cau decile score\n",
    "african_american_vs_caucasian_decile_score(decile_afam, decile_cau)\n",
    "\n",
    "# Train test split. Train : 2/3 of total dataset\n",
    "data_train,data_test,labels_train,labels_test = train_test_split(df_with_x, y_labels,test_size = 0.33,random_state = 42,shuffle=False)\n",
    "\n",
    "# Training model using logistic regression\n",
    "import warnings\n",
    "from sklearn.tree import DecisionTreeClassifier\n",
    "# from sklearn.ensemble import RandomForestClassifier\n",
    "warnings.filterwarnings('ignore')\n",
    "decision_tree = DecisionTreeClassifier(max_depth=7, random_state=123)\n",
    "decision_tree.fit(data_train,labels_train)\n",
    "\n",
    "# Predicting for test labels\n",
    "pred = decision_tree.predict(data_test)\n",
    "\n",
    "labels_test_arr = labels_test.values\n",
    "\n",
    "#model accuracy\n",
    "accuracy = calculate_model_accuracy(pred, labels_test_arr)\n",
    "print(\"Accuracy of model: \",accuracy, \"%\")\n",
    "\n",
    "false_positives, af_am_fp, ca_fp, race_false_positives = get_false_positives(df_with_x, pred, len(data_train), y_actual)\n",
    "print_fp_ratio_by_races(false_positives, af_am_fp, ca_fp)\n",
    "# plot_fp_vs_race(race_false_positives)\n",
    "\n",
    "fp, fn, tp, tn = get_confusion_matrix_values(pred, len(data_train), y_actual)\n",
    "\n",
    "plot_pred_vs_actual(fp, fn, tp, tn)\n",
    "\n",
    "print_stats(fp, fn, tp, tn, pred)\n"
   ]
  },
  {
   "cell_type": "code",
   "execution_count": null,
   "id": "17d8948b",
   "metadata": {},
   "outputs": [],
   "source": []
  },
  {
   "cell_type": "markdown",
   "id": "ff37c3e8",
   "metadata": {},
   "source": [
    "Without protected and Equal population records in Decision Forest"
   ]
  },
  {
   "cell_type": "code",
   "execution_count": 28,
   "id": "250aede9",
   "metadata": {},
   "outputs": [
    {
     "name": "stdout",
     "output_type": "stream",
     "text": [
      "Accuracy of model:  100.0 %\n",
      "Ratio of African americans in false positive:  78 / 78\n",
      "Percentage:  100.0\n",
      "Ratio of Caucasians in false positive:  0 / 78\n",
      "Percentage:  0.0\n",
      "False positive:  78\n",
      "False positive rate:  25.16 %\n",
      "False Negative:  461\n",
      "False Negative rate:  47.72 %\n",
      "True positive:  505\n",
      "True positive percentage:  39.58 %\n",
      "Positive predicted value:  86.62 %\n",
      "True negative:  232\n",
      "True negative percentage:  18.18 %\n",
      "Negative predicted value:  33.48 %\n",
      "Accuracy:  57.76 %\n"
     ]
    },
    {
     "data": {
      "image/png": "[encoded data removed]",
      "text/plain": [
       "<Figure size 1080x576 with 1 Axes>"
      ]
     },
     "metadata": {
      "needs_background": "light"
     },
     "output_type": "display_data"
    }
   ],
   "source": [
    "#Output labels --RANDOM FOREST\n",
    "y_labels = Equalized_Dataframe['labels']\n",
    "#y actual\n",
    "y_actual = get_y_actual(Equalized_Dataframe)\n",
    "#deleting actaul values and labels\n",
    "df_with_x = Equalized_Dataframe.copy()\n",
    "df_with_x.drop('labels', inplace=True, axis=1)\n",
    "df_with_x.drop('two_year_recid', inplace=True, axis=1)\n",
    "\n",
    "#array containing races\n",
    "races_array = unique_array_races(df_with_x)\n",
    "\n",
    "#get race wise count\n",
    "race_recidivism_count, race_norecidivism_count = get_race_wise_count(df_with_x)\n",
    "\n",
    "#plot rec vs non rec against each race\n",
    "plot_rec_vs_nonrec_allrace(race_recidivism_count, race_norecidivism_count, races_array)\n",
    "\n",
    "#get race wise decile scores\n",
    "decile_afam, decile_asian, decile_cau, decile_his, decile_nat, decile_oth = get_race_wise_decile_count(df_with_x)\n",
    "#plot histogram\n",
    "plot_histogram_decile_score_against_races(decile_afam, decile_asian, decile_cau, decile_his, decile_nat, decile_oth)\n",
    "\n",
    "#af-american decile score vs cau decile score\n",
    "african_american_vs_caucasian_decile_score(decile_afam, decile_cau)\n",
    "\n",
    "# Train test split. Train : 2/3 of total dataset\n",
    "data_train,data_test,labels_train,labels_test = train_test_split(df_with_x, y_labels,test_size = 0.33,random_state = 42,shuffle=False)\n",
    "\n",
    "# Training model using logistic regression\n",
    "import warnings\n",
    "from sklearn.ensemble import RandomForestClassifier\n",
    "warnings.filterwarnings('ignore')\n",
    "decision_forest = RandomForestClassifier(max_depth=7, random_state=123)\n",
    "decision_forest.fit(data_train,labels_train)\n",
    "\n",
    "# Predicting for test labels\n",
    "pred = decision_forest.predict(data_test)\n",
    "\n",
    "labels_test_arr = labels_test.values\n",
    "\n",
    "#model accuracy\n",
    "accuracy = calculate_model_accuracy(pred, labels_test_arr)\n",
    "print(\"Accuracy of model: \",accuracy, \"%\")\n",
    "\n",
    "false_positives, af_am_fp, ca_fp, race_false_positives = get_false_positives(df_with_x, pred, len(data_train), y_actual)\n",
    "print_fp_ratio_by_races(false_positives, af_am_fp, ca_fp)\n",
    "# plot_fp_vs_race(race_false_positives)\n",
    "\n",
    "fp, fn, tp, tn = get_confusion_matrix_values(pred, len(data_train), y_actual)\n",
    "\n",
    "plot_pred_vs_actual(fp, fn, tp, tn)\n",
    "\n",
    "print_stats(fp, fn, tp, tn, pred)\n"
   ]
  },
  {
   "cell_type": "code",
   "execution_count": null,
   "id": "7d02bba9",
   "metadata": {},
   "outputs": [],
   "source": []
  },
  {
   "cell_type": "markdown",
   "id": "8eccf152",
   "metadata": {},
   "source": [
    "With Protected and LR"
   ]
  },
  {
   "cell_type": "code",
   "execution_count": 29,
   "id": "cc90b239",
   "metadata": {},
   "outputs": [
    {
     "name": "stdout",
     "output_type": "stream",
     "text": [
      "Accuracy of model:  66.69 %\n",
      "Ratio of African americans in false positive:  74 / 153\n",
      "Percentage:  48.36601307189542\n",
      "Ratio of Caucasians in false positive:  50 / 153\n",
      "Percentage:  32.6797385620915\n",
      "False positive:  153\n",
      "False positive rate:  11.84 %\n",
      "False Negative:  233\n",
      "False Negative rate:  21.4 %\n",
      "True positive:  856\n",
      "True positive percentage:  35.95 %\n",
      "Positive predicted value:  84.84 %\n",
      "True negative:  1139\n",
      "True negative percentage:  47.84 %\n",
      "Negative predicted value:  83.02 %\n",
      "Accuracy:  83.79 %\n"
     ]
    },
    {
     "data": {
      "image/png": "[encoded data removed]",
      "text/plain": [
       "<Figure size 1080x576 with 1 Axes>"
      ]
     },
     "metadata": {
      "needs_background": "light"
     },
     "output_type": "display_data"
    }
   ],
   "source": [
    "#Output labels -- LOGISTIC REGRESSION w/o PROTECTED DATA\n",
    "reduced_features = ['age','race','juv_fel_count','juv_misd_count','juv_other_count','priors_count','is_violent_recid','decile_score','v_decile_score','start','end','event', 'two_year_recid', 'labels']\n",
    "file = \"compas-scores-two-years1.csv\"\n",
    "df = create_df(file)\n",
    "df_with_reduced_features = reduce_features(df,reduced_features)\n",
    "df_post_mapping = map_race(df_with_reduced_features)\n",
    "\n",
    "# Afam_Dataframe_norec = df_post_mapping[(df_post_mapping['race'] == 0) & (df_post_mapping['two_year_recid'] == 0)]\n",
    "# Afam_Dataframe_rec = df_post_mapping[(df_post_mapping['race'] == 0) & (df_post_mapping['two_year_recid'] == 1)]\n",
    "# Cau_Dataframe_norec = df_post_mapping[(df_post_mapping['race'] == 2) & (df_post_mapping['two_year_recid'] == 0)]\n",
    "# Cau_Dataframe_rec = df_post_mapping[(df_post_mapping['race'] == 2) & (df_post_mapping['two_year_recid'] == 1)]\n",
    "# print(Afam_Dataframe_norec.shape,Afam_Dataframe_rec.shape,Cau_Dataframe_norec.shape,Cau_Dataframe_rec.shape)\n",
    "# Afam_Dataframe_norec_t = Afam_Dataframe_norec.sample(n=966)\n",
    "# Afam_Dataframe_rec_t = Afam_Dataframe_rec.sample(n=966)\n",
    "# Cau_Dataframe_norec_t = Cau_Dataframe_norec.sample(n=966)\n",
    "# Cau_Dataframe_rec_t = Cau_Dataframe_rec.sample(n=966)\n",
    "# Equalized_Dataframe = pd.concat([Afam_Dataframe_norec_t,Afam_Dataframe_rec_t,Cau_Dataframe_norec_t,Cau_Dataframe_rec_t],axis = 0)\n",
    "# # Equalized_Dataframe.to_csv(\"COMPAS_equal_dist.csv\")\n",
    "\n",
    "\n",
    "#Output labels\n",
    "y_labels = df_post_mapping['labels']\n",
    "#y actual\n",
    "y_actual = get_y_actual(df_post_mapping)\n",
    "#deleting actaul values and labels\n",
    "df_with_x = df_post_mapping.copy()\n",
    "df_with_x.drop('labels', inplace=True, axis=1)\n",
    "df_with_x.drop('two_year_recid', inplace=True, axis=1)\n",
    "\n",
    "#array containing races\n",
    "races_array = unique_array_races(df_with_x)\n",
    "\n",
    "#get race wise count\n",
    "race_recidivism_count, race_norecidivism_count = get_race_wise_count(df_with_x)\n",
    "#plot rec vs non rec against each race\n",
    "plot_rec_vs_nonrec_allrace(race_recidivism_count, race_norecidivism_count, races_array)\n",
    "\n",
    "#get race wise decile scores\n",
    "decile_afam, decile_asian, decile_cau, decile_his, decile_nat, decile_oth = get_race_wise_decile_count(df_with_x)\n",
    "#plot histogram\n",
    "plot_histogram_decile_score_against_races(decile_afam, decile_asian, decile_cau, decile_his, decile_nat, decile_oth)\n",
    "\n",
    "#af-american decile score vs cau decile score\n",
    "african_american_vs_caucasian_decile_score(decile_afam, decile_cau)\n",
    "\n",
    "# Train test split. Train : 2/3 of total dataset\n",
    "df_without_race = df_with_x.copy()\n",
    "df_without_race.drop('race', inplace=True, axis=1)\n",
    "df_without_race.drop('age', inplace=True, axis=1)\n",
    "df_without_race.drop('decile_score', inplace=True, axis=1)\n",
    "df_without_race.drop('v_decile_score', inplace=True, axis=1)\n",
    "df_without_race.drop('priors_count', inplace=True, axis=1)\n",
    "data_train,data_test,labels_train,labels_test = train_test_split(df_without_race, y_labels,test_size = 0.33,random_state = 42,shuffle=False)\n",
    "\n",
    "# Training model using logistic regression\n",
    "import warnings\n",
    "warnings.filterwarnings('ignore')\n",
    "\n",
    "import warnings\n",
    "from sklearn.tree import DecisionTreeClassifier\n",
    "\n",
    "lr = LogisticRegression()\n",
    "lr.fit(data_train,labels_train)\n",
    "\n",
    "# Predicting for test labels\n",
    "pred = lr.predict(data_test)\n",
    "\n",
    "labels_test_arr = labels_test.values\n",
    "\n",
    "#model accuracy\n",
    "accuracy = calculate_model_accuracy(pred, labels_test_arr)\n",
    "print(\"Accuracy of model: \",accuracy, \"%\")\n",
    "\n",
    "false_positives, af_am_fp, ca_fp, race_false_positives = get_false_positives(df_with_x, pred, len(data_train), y_actual)\n",
    "true_p, race_true_positives = get_true_positives(df_with_x, pred, len(data_train), y_actual)\n",
    "\n",
    "\n",
    "print_fp_ratio_by_races(false_positives, af_am_fp, ca_fp)\n",
    "# plot_fp_vs_race(race_false_positives)\n",
    "\n",
    "fp, fn, tp, tn = get_confusion_matrix_values(pred, len(data_train), y_actual)\n",
    "\n",
    "plot_pred_vs_actual(fp, fn, tp, tn)\n",
    "\n",
    "print_stats(fp, fn, tp, tn, pred)\n"
   ]
  },
  {
   "cell_type": "code",
   "execution_count": 30,
   "id": "815ea337",
   "metadata": {},
   "outputs": [
    {
     "data": {
      "text/plain": [
       "[1608, 8, 816, 206, 6, 118]"
      ]
     },
     "execution_count": 30,
     "metadata": {},
     "output_type": "execute_result"
    }
   ],
   "source": [
    "race_recidivism_count"
   ]
  },
  {
   "cell_type": "code",
   "execution_count": 31,
   "id": "9c0b5423",
   "metadata": {},
   "outputs": [
    {
     "data": {
      "text/plain": [
       "[2088, 24, 1638, 431, 12, 259]"
      ]
     },
     "execution_count": 31,
     "metadata": {},
     "output_type": "execute_result"
    }
   ],
   "source": [
    "race_norecidivism_count"
   ]
  },
  {
   "cell_type": "code",
   "execution_count": 34,
   "id": "bd75df5d",
   "metadata": {},
   "outputs": [
    {
     "data": {
      "text/plain": [
       "7214"
      ]
     },
     "execution_count": 34,
     "metadata": {},
     "output_type": "execute_result"
    }
   ],
   "source": [
    "sum(race_norecidivism_count)+sum(race_recidivism_count)"
   ]
  },
  {
   "cell_type": "code",
   "execution_count": null,
   "id": "a022d097",
   "metadata": {},
   "outputs": [],
   "source": []
  }
 ],
 "metadata": {
  "kernelspec": {
   "display_name": "Python 3 (ipykernel)",
   "language": "python",
   "name": "python3"
  },
  "language_info": {
   "codemirror_mode": {
    "name": "ipython",
    "version": 3
   },
   "file_extension": ".py",
   "mimetype": "text/x-python",
   "name": "python",
   "nbconvert_exporter": "python",
   "pygments_lexer": "ipython3",
   "version": "3.9.7"
  }
 },
 "nbformat": 4,
 "nbformat_minor": 5
}
