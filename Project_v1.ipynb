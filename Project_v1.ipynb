{
 "cells": [
  {
   "cell_type": "code",
   "execution_count": 1,
   "id": "357f4191",
   "metadata": {},
   "outputs": [],
   "source": [
    "import pandas as pd\n",
    "import numpy as np\n",
    "from sklearn.decomposition import PCA\n",
    "from sklearn.model_selection import train_test_split\n",
    "from sklearn.linear_model import LogisticRegression\n",
    "from sklearn.preprocessing import MinMaxScaler,StandardScaler\n",
    "import matplotlib.pyplot as plt\n",
    "import matplotlib.pyplot as plt2"
   ]
  },
  {
   "cell_type": "code",
   "execution_count": 2,
   "id": "e0bfd267",
   "metadata": {},
   "outputs": [],
   "source": [
    "dataframe = pd.read_csv(\"compas-scores-two-years.csv\")"
   ]
  },
  {
   "cell_type": "code",
   "execution_count": 3,
   "id": "efa2be4b",
   "metadata": {},
   "outputs": [],
   "source": [
    "dataframe_temp = pd.read_csv(\"compas-scores-two-years.csv\")"
   ]
  },
  {
   "cell_type": "code",
   "execution_count": 4,
   "id": "47f20f3e",
   "metadata": {},
   "outputs": [],
   "source": [
    "dataframe2 = pd.DataFrame(dataframe,\n",
    "                          columns=['age','race','juv_fel_count','decile_score','juv_misd_count','juv_other_count','priors_count','is_violent_recid','decile_score','v_decile_score','priors_count','start','end','event'])"
   ]
  },
  {
   "cell_type": "code",
   "execution_count": 5,
   "id": "348e808b",
   "metadata": {},
   "outputs": [],
   "source": [
    "mapping = {'African-American' : 0, 'Asian' : 1, 'Caucasian' : 2, 'Hispanic' : 3,'Native American' : 4, 'Other' : 5}\n",
    "dataframe2 = dataframe2.replace({'race' : mapping})\n",
    "dataframe_temp = dataframe_temp.replace({'race' : mapping})"
   ]
  },
  {
   "cell_type": "code",
   "execution_count": 6,
   "id": "d95a40bc",
   "metadata": {},
   "outputs": [],
   "source": [
    "Y_labels = dataframe.iloc[:,-1]"
   ]
  },
  {
   "cell_type": "code",
   "execution_count": 7,
   "id": "4802987f",
   "metadata": {},
   "outputs": [],
   "source": [
    "recid_status = dataframe['is_recid'].to_numpy()"
   ]
  },
  {
   "cell_type": "code",
   "execution_count": 8,
   "id": "044ddb14",
   "metadata": {},
   "outputs": [],
   "source": [
    "data_train,data_test,labels_train,labels_test = train_test_split(dataframe2, Y_labels,test_size = 0.33,random_state = 42,shuffle=False)"
   ]
  },
  {
   "cell_type": "code",
   "execution_count": 9,
   "id": "bd725bf7",
   "metadata": {},
   "outputs": [
    {
     "data": {
      "text/plain": [
       "(4833, 14)"
      ]
     },
     "execution_count": 9,
     "metadata": {},
     "output_type": "execute_result"
    }
   ],
   "source": [
    "data_train.shape"
   ]
  },
  {
   "cell_type": "code",
   "execution_count": 10,
   "id": "300b6fe9",
   "metadata": {},
   "outputs": [],
   "source": [
    "false_positives = []\n",
    "af_am_fp = 0\n",
    "ca_fp = 0\n",
    "race_false_positives = [0,0,0,0,0,0]\n",
    "for i in range (len(Y_labels)):\n",
    "    if(Y_labels[i] == 0 and recid_status[i] == 1):\n",
    "        race_false_positives[dataframe2['race'].iloc[i]] += 1\n",
    "        false_positives.append(dataframe2['race'].iloc[i])\n",
    "        if(dataframe2['race'].iloc[i] == 0):\n",
    "            af_am_fp += 1\n",
    "        if(dataframe2['race'].iloc[i] == 2):\n",
    "            ca_fp += 1"
   ]
  },
  {
   "cell_type": "code",
   "execution_count": 11,
   "id": "dcf90c16",
   "metadata": {},
   "outputs": [
    {
     "data": {
      "text/plain": [
       "220"
      ]
     },
     "execution_count": 11,
     "metadata": {},
     "output_type": "execute_result"
    }
   ],
   "source": [
    "len(false_positives)"
   ]
  },
  {
   "cell_type": "code",
   "execution_count": 12,
   "id": "c85d6dae",
   "metadata": {},
   "outputs": [],
   "source": [
    "if(len(false_positives) != 0):\n",
    "    perc_af_am_fp = (af_am_fp / len(false_positives))*100"
   ]
  },
  {
   "cell_type": "code",
   "execution_count": 13,
   "id": "6be97831",
   "metadata": {},
   "outputs": [],
   "source": [
    "x = np.unique(dataframe['race'].to_numpy())\n",
    "y = race_false_positives"
   ]
  },
  {
   "cell_type": "code",
   "execution_count": 14,
   "id": "287e0c3d",
   "metadata": {},
   "outputs": [
    {
     "data": {
      "text/plain": [
       "Text(0.5, 1.0, 'False negative count for each race')"
      ]
     },
     "execution_count": 14,
     "metadata": {},
     "output_type": "execute_result"
    },
    {
     "data": {
      "image/png": "[encoded data removed]",
      "text/plain": [
       "<Figure size 576x324 with 1 Axes>"
      ]
     },
     "metadata": {
      "needs_background": "light"
     },
     "output_type": "display_data"
    }
   ],
   "source": [
    "plt.rcParams[\"figure.figsize\"] = (8,4.5)\n",
    "plt.bar(x, y)\n",
    "plt.title(\"False negative count for each race\")"
   ]
  },
  {
   "cell_type": "code",
   "execution_count": 15,
   "id": "11f19c0e",
   "metadata": {},
   "outputs": [],
   "source": [
    "race_recidivism_count = [0,0,0,0,0,0]\n",
    "race_norecidivism_count = [0,0,0,0,0,0]\n",
    "for i in range (len(dataframe_temp['race'])):\n",
    "    if(dataframe_temp.iloc[i,-1] == 0):\n",
    "        race_norecidivism_count[dataframe_temp['race'].iloc[i]] += 1\n",
    "    else:\n",
    "        race_recidivism_count[dataframe_temp['race'].iloc[i]] += 1"
   ]
  },
  {
   "cell_type": "code",
   "execution_count": 16,
   "id": "bd869500",
   "metadata": {},
   "outputs": [
    {
     "data": {
      "text/plain": [
       "[1795, 23, 1488, 405, 8, 244]"
      ]
     },
     "execution_count": 16,
     "metadata": {},
     "output_type": "execute_result"
    }
   ],
   "source": [
    "race_norecidivism_count"
   ]
  },
  {
   "cell_type": "code",
   "execution_count": 17,
   "id": "04c2bac4",
   "metadata": {},
   "outputs": [
    {
     "data": {
      "text/plain": [
       "[1901, 9, 966, 232, 10, 133]"
      ]
     },
     "execution_count": 17,
     "metadata": {},
     "output_type": "execute_result"
    }
   ],
   "source": [
    "race_recidivism_count"
   ]
  },
  {
   "cell_type": "code",
   "execution_count": 18,
   "id": "47733387",
   "metadata": {},
   "outputs": [],
   "source": [
    "# plt.rcParams[\"figure.figsize\"] = (8,5.5)\n",
    "# plt.bar(x,race_norecidivism_count,color = 'green',label = 'people not recidivated')\n",
    "# plt.bar(x,race_recidivism_count,color = 'red',label = 'people recidivated')\n",
    "# plt.legend(['race_norecidivism_count','race_recidivism_count'])\n",
    "# plt.title(\"Recidivated vs Not Recidivated for each race\")"
   ]
  },
  {
   "cell_type": "code",
   "execution_count": 19,
   "id": "64efe574",
   "metadata": {},
   "outputs": [
    {
     "data": {
      "text/plain": [
       "<matplotlib.legend.Legend at 0x7fc36c11d2e0>"
      ]
     },
     "execution_count": 19,
     "metadata": {},
     "output_type": "execute_result"
    },
    {
     "data": {
      "image/png": "[encoded data removed]",
      "text/plain": [
       "<Figure size 576x324 with 1 Axes>"
      ]
     },
     "metadata": {
      "needs_background": "light"
     },
     "output_type": "display_data"
    }
   ],
   "source": [
    "w = 0.4\n",
    "bar1 = np.arange(len(x))\n",
    "bar2 = [i+w for i in bar1]\n",
    "\n",
    "plt.bar(bar1,race_norecidivism_count,w,color = 'green',label = 'people not recidivated')\n",
    "plt.bar(bar2,race_recidivism_count,w,color = 'red',label = 'people recidivated')\n",
    "plt.title(\"Recidivated vs Not Recidivated for each race\")\n",
    "plt.xlabel('Race')\n",
    "plt.ylabel('count')\n",
    "plt.xticks(bar1,x)\n",
    "plt.legend()\n"
   ]
  },
  {
   "cell_type": "code",
   "execution_count": 20,
   "id": "23dbc3a5",
   "metadata": {},
   "outputs": [],
   "source": [
    "x_afam = dataframe_temp.loc[dataframe_temp['race'] == 0,'decile_score'].values\n",
    "x_asian = dataframe_temp.loc[dataframe_temp['race'] == 1,'decile_score'].values\n",
    "x_cau = dataframe_temp.loc[dataframe_temp['race'] == 2,'decile_score'].values\n",
    "x_his = dataframe_temp.loc[dataframe_temp['race'] == 3,'decile_score'].values\n",
    "x_nat = dataframe_temp.loc[dataframe_temp['race'] == 4,'decile_score'].values\n",
    "x_oth = dataframe_temp.loc[dataframe_temp['race'] == 5,'decile_score'].values"
   ]
  },
  {
   "cell_type": "code",
   "execution_count": 21,
   "id": "b84ccc4e",
   "metadata": {},
   "outputs": [
    {
     "data": {
      "text/plain": [
       "<matplotlib.legend.Legend at 0x7fc358aeeb20>"
      ]
     },
     "execution_count": 21,
     "metadata": {},
     "output_type": "execute_result"
    },
    {
     "data": {
      "image/png": "[encoded data removed]",
      "text/plain": [
       "<Figure size 1080x576 with 1 Axes>"
      ]
     },
     "metadata": {
      "needs_background": "light"
     },
     "output_type": "display_data"
    }
   ],
   "source": [
    "plt.rcParams[\"figure.figsize\"] = (15,8)\n",
    "plt.hist([x_afam,x_asian,x_cau,x_his,x_nat,x_oth],width = 0.15)\n",
    "plt.title(\"Histogram of distirbution of decile_score for each race\")\n",
    "plt.xlabel('decile_score')\n",
    "plt.ylabel('count')\n",
    "plt.legend(['African-American','Asian','Caucasian','Hispanic','Native American','Other'])"
   ]
  },
  {
   "cell_type": "code",
   "execution_count": 22,
   "id": "dd04e295",
   "metadata": {},
   "outputs": [
    {
     "data": {
      "text/plain": [
       "<matplotlib.legend.Legend at 0x7fc358ff3b50>"
      ]
     },
     "execution_count": 22,
     "metadata": {},
     "output_type": "execute_result"
    },
    {
     "data": {
      "image/png": "[encoded data removed]",
      "text/plain": [
       "<Figure size 1080x576 with 1 Axes>"
      ]
     },
     "metadata": {
      "needs_background": "light"
     },
     "output_type": "display_data"
    }
   ],
   "source": [
    "plt.rcParams[\"figure.figsize\"] = (15,8)\n",
    "plt.hist([x_afam,x_cau])\n",
    "plt.title(\"Histogram of distirbution of decile_score African Americans vs Caucasians\")\n",
    "plt.xlabel('decile_score')\n",
    "plt.ylabel('count')\n",
    "plt.legend(['African-American','Caucasian'])"
   ]
  },
  {
   "cell_type": "code",
   "execution_count": 23,
   "id": "e836521f",
   "metadata": {},
   "outputs": [],
   "source": [
    "decile_afam = [0,0,0,0,0,0,0,0,0,0]\n",
    "for i in range(len(dataframe_temp['race'])):\n",
    "    if (dataframe_temp['race'].iloc[i] == 0):\n",
    "        decile_afam[dataframe_temp['decile_score'].iloc[i] - 1] += 1"
   ]
  },
  {
   "cell_type": "code",
   "execution_count": 24,
   "id": "c32f818d",
   "metadata": {},
   "outputs": [
    {
     "data": {
      "text/plain": [
       "(7214,)"
      ]
     },
     "execution_count": 24,
     "metadata": {},
     "output_type": "execute_result"
    }
   ],
   "source": [
    "Y_labels.shape"
   ]
  },
  {
   "cell_type": "code",
   "execution_count": 25,
   "id": "abd6e805",
   "metadata": {},
   "outputs": [
    {
     "name": "stderr",
     "output_type": "stream",
     "text": [
      "/Users/harivigneshgomathi/anaconda3/lib/python3.9/site-packages/sklearn/linear_model/_logistic.py:763: ConvergenceWarning: lbfgs failed to converge (status=1):\n",
      "STOP: TOTAL NO. of ITERATIONS REACHED LIMIT.\n",
      "\n",
      "Increase the number of iterations (max_iter) or scale the data as shown in:\n",
      "    https://scikit-learn.org/stable/modules/preprocessing.html\n",
      "Please also refer to the documentation for alternative solver options:\n",
      "    https://scikit-learn.org/stable/modules/linear_model.html#logistic-regression\n",
      "  n_iter_i = _check_optimize_result(\n"
     ]
    },
    {
     "data": {
      "text/plain": [
       "LogisticRegression()"
      ]
     },
     "execution_count": 25,
     "metadata": {},
     "output_type": "execute_result"
    }
   ],
   "source": [
    "lr = LogisticRegression()\n",
    "lr.fit(data_train,labels_train)"
   ]
  },
  {
   "cell_type": "code",
   "execution_count": 26,
   "id": "0a8481bb",
   "metadata": {},
   "outputs": [],
   "source": [
    "pred = lr.predict(data_test)"
   ]
  },
  {
   "cell_type": "code",
   "execution_count": 27,
   "id": "1ab38133",
   "metadata": {},
   "outputs": [],
   "source": [
    "labels_test_arr = labels_test.values"
   ]
  },
  {
   "cell_type": "code",
   "execution_count": 28,
   "id": "ca7b8372",
   "metadata": {},
   "outputs": [
    {
     "name": "stdout",
     "output_type": "stream",
     "text": [
      "Accuracy:  93.57412851742966\n"
     ]
    }
   ],
   "source": [
    "count = 0\n",
    "for i in range (len(pred)):\n",
    "    if(pred[i] == labels_test_arr[i]):\n",
    "        count+=1\n",
    "\n",
    "avg = (count/len(pred))*100\n",
    "print(\"Accuracy: \",avg)"
   ]
  }
 ],
 "metadata": {
  "kernelspec": {
   "display_name": "Python 3 (ipykernel)",
   "language": "python",
   "name": "python3"
  },
  "language_info": {
   "codemirror_mode": {
    "name": "ipython",
    "version": 3
   },
   "file_extension": ".py",
   "mimetype": "text/x-python",
   "name": "python",
   "nbconvert_exporter": "python",
   "pygments_lexer": "ipython3",
   "version": "3.9.7"
  }
 },
 "nbformat": 4,
 "nbformat_minor": 5
}
