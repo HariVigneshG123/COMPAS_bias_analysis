{
 "cells": [
  {
   "cell_type": "code",
   "execution_count": 1,
   "id": "357f4191",
   "metadata": {},
   "outputs": [],
   "source": [
    "import pandas as pd\n",
    "import numpy as np\n",
    "from sklearn.decomposition import PCA\n",
    "from sklearn.model_selection import train_test_split\n",
    "from sklearn.linear_model import LogisticRegression\n",
    "from sklearn.preprocessing import MinMaxScaler,StandardScaler\n",
    "import matplotlib.pyplot as plt\n",
    "import matplotlib.pyplot as plt2\n",
    "import seaborn as sns"
   ]
  },
  {
   "cell_type": "code",
   "execution_count": 2,
   "id": "e0bfd267",
   "metadata": {},
   "outputs": [],
   "source": [
    "#Dataframe creation from input datafile\n",
    "dataframe = pd.read_csv(\"COMPAS_equal_dist1.csv\")"
   ]
  },
  {
   "cell_type": "code",
   "execution_count": 3,
   "id": "efa2be4b",
   "metadata": {},
   "outputs": [],
   "source": [
    "#Dataframe creation from input datafile as backup before transformation\n",
    "dataframe_temp = pd.read_csv(\"COMPAS_equal_dist1.csv\")"
   ]
  },
  {
   "cell_type": "code",
   "execution_count": 4,
   "id": "47f20f3e",
   "metadata": {},
   "outputs": [],
   "source": [
    "#Feature Selection\n",
    "dataframe2 = pd.DataFrame(dataframe,\n",
    "                          columns=['age','race','juv_fel_count','juv_misd_count','juv_other_count','priors_count','is_violent_recid','decile_score','v_decile_score','priors_count','start','end','event'])"
   ]
  },
  {
   "cell_type": "code",
   "execution_count": 5,
   "id": "7329d145",
   "metadata": {},
   "outputs": [],
   "source": [
    "dataframe3 = pd.DataFrame(dataframe,\n",
    "                          columns=['age','race','juv_fel_count','juv_misd_count','juv_other_count','priors_count','is_violent_recid','decile_score','v_decile_score','priors_count','start','end','event','two_year_recid'])"
   ]
  },
  {
   "cell_type": "code",
   "execution_count": 6,
   "id": "348e808b",
   "metadata": {},
   "outputs": [],
   "source": [
    "#Converting String to integer values for benefit of logistic regression which requires numerical data\n",
    "# mapping = {'African-American' : 0, 'Asian' : 1, 'Caucasian' : 2, 'Hispanic' : 3,'Native American' : 4, 'Other' : 5}\n",
    "# dataframe2 = dataframe2.replace({'race' : mapping})\n",
    "# dataframe3 = dataframe3.replace({'race' : mapping})\n",
    "# dataframe_temp = dataframe_temp.replace({'race' : mapping})"
   ]
  },
  {
   "cell_type": "code",
   "execution_count": 7,
   "id": "d95a40bc",
   "metadata": {},
   "outputs": [],
   "source": [
    "#Output labels\n",
    "Y_labels = dataframe['Labels']"
   ]
  },
  {
   "cell_type": "code",
   "execution_count": 8,
   "id": "4802987f",
   "metadata": {},
   "outputs": [],
   "source": [
    "#Ground truth - /unsure/\n",
    "recid_status = dataframe['two_year_recid'].to_numpy()"
   ]
  },
  {
   "cell_type": "code",
   "execution_count": 9,
   "id": "33a2bb77",
   "metadata": {},
   "outputs": [],
   "source": [
    "#Array containing the races available in dataset\n",
    "x = np.unique(dataframe['race'].to_numpy())"
   ]
  },
  {
   "cell_type": "code",
   "execution_count": 10,
   "id": "11f19c0e",
   "metadata": {},
   "outputs": [],
   "source": [
    "#Calculating race wise recidivism and no recidivism count. \n",
    "#Count for each race correspond indexes in array that were assigned in initial string to numerical reassign\n",
    "race_recidivism_count = [0,0,0,0,0,0]\n",
    "race_norecidivism_count = [0,0,0,0,0,0]\n",
    "for i in range (len(dataframe_temp['race'])):\n",
    "    if(dataframe_temp.iloc[i,-1] == 0):\n",
    "        race_norecidivism_count[dataframe_temp['race'].iloc[i]] += 1\n",
    "    else:\n",
    "        race_recidivism_count[dataframe_temp['race'].iloc[i]] += 1"
   ]
  },
  {
   "cell_type": "code",
   "execution_count": 11,
   "id": "64efe574",
   "metadata": {},
   "outputs": [
    {
     "ename": "ValueError",
     "evalue": "shape mismatch: objects cannot be broadcast to a single shape",
     "output_type": "error",
     "traceback": [
      "\u001b[0;31m---------------------------------------------------------------------------\u001b[0m",
      "\u001b[0;31mValueError\u001b[0m                                Traceback (most recent call last)",
      "\u001b[0;32m/var/folders/4_/2p34smp57y1gjj525ytht7dr0000gn/T/ipykernel_18981/1739844685.py\u001b[0m in \u001b[0;36m<module>\u001b[0;34m\u001b[0m\n\u001b[1;32m      3\u001b[0m \u001b[0mbar2\u001b[0m \u001b[0;34m=\u001b[0m \u001b[0;34m[\u001b[0m\u001b[0mi\u001b[0m\u001b[0;34m+\u001b[0m\u001b[0mw\u001b[0m \u001b[0;32mfor\u001b[0m \u001b[0mi\u001b[0m \u001b[0;32min\u001b[0m \u001b[0mbar1\u001b[0m\u001b[0;34m]\u001b[0m\u001b[0;34m\u001b[0m\u001b[0;34m\u001b[0m\u001b[0m\n\u001b[1;32m      4\u001b[0m \u001b[0;34m\u001b[0m\u001b[0m\n\u001b[0;32m----> 5\u001b[0;31m \u001b[0mplt\u001b[0m\u001b[0;34m.\u001b[0m\u001b[0mbar\u001b[0m\u001b[0;34m(\u001b[0m\u001b[0mbar1\u001b[0m\u001b[0;34m,\u001b[0m\u001b[0mrace_norecidivism_count\u001b[0m\u001b[0;34m,\u001b[0m\u001b[0mw\u001b[0m\u001b[0;34m,\u001b[0m\u001b[0mcolor\u001b[0m \u001b[0;34m=\u001b[0m \u001b[0;34m'green'\u001b[0m\u001b[0;34m,\u001b[0m\u001b[0mlabel\u001b[0m \u001b[0;34m=\u001b[0m \u001b[0;34m'people not recidivated'\u001b[0m\u001b[0;34m)\u001b[0m\u001b[0;34m\u001b[0m\u001b[0;34m\u001b[0m\u001b[0m\n\u001b[0m\u001b[1;32m      6\u001b[0m \u001b[0mplt\u001b[0m\u001b[0;34m.\u001b[0m\u001b[0mbar\u001b[0m\u001b[0;34m(\u001b[0m\u001b[0mbar2\u001b[0m\u001b[0;34m,\u001b[0m\u001b[0mrace_recidivism_count\u001b[0m\u001b[0;34m,\u001b[0m\u001b[0mw\u001b[0m\u001b[0;34m,\u001b[0m\u001b[0mcolor\u001b[0m \u001b[0;34m=\u001b[0m \u001b[0;34m'red'\u001b[0m\u001b[0;34m,\u001b[0m\u001b[0mlabel\u001b[0m \u001b[0;34m=\u001b[0m \u001b[0;34m'people recidivated'\u001b[0m\u001b[0;34m)\u001b[0m\u001b[0;34m\u001b[0m\u001b[0;34m\u001b[0m\u001b[0m\n\u001b[1;32m      7\u001b[0m \u001b[0mplt\u001b[0m\u001b[0;34m.\u001b[0m\u001b[0mtitle\u001b[0m\u001b[0;34m(\u001b[0m\u001b[0;34m\"Recidivated vs Not Recidivated for each race\"\u001b[0m\u001b[0;34m)\u001b[0m\u001b[0;34m\u001b[0m\u001b[0;34m\u001b[0m\u001b[0m\n",
      "\u001b[0;32m~/anaconda3/lib/python3.9/site-packages/matplotlib/pyplot.py\u001b[0m in \u001b[0;36mbar\u001b[0;34m(x, height, width, bottom, align, data, **kwargs)\u001b[0m\n\u001b[1;32m   2649\u001b[0m         \u001b[0mx\u001b[0m\u001b[0;34m,\u001b[0m \u001b[0mheight\u001b[0m\u001b[0;34m,\u001b[0m \u001b[0mwidth\u001b[0m\u001b[0;34m=\u001b[0m\u001b[0;36m0.8\u001b[0m\u001b[0;34m,\u001b[0m \u001b[0mbottom\u001b[0m\u001b[0;34m=\u001b[0m\u001b[0;32mNone\u001b[0m\u001b[0;34m,\u001b[0m \u001b[0;34m*\u001b[0m\u001b[0;34m,\u001b[0m \u001b[0malign\u001b[0m\u001b[0;34m=\u001b[0m\u001b[0;34m'center'\u001b[0m\u001b[0;34m,\u001b[0m\u001b[0;34m\u001b[0m\u001b[0;34m\u001b[0m\u001b[0m\n\u001b[1;32m   2650\u001b[0m         data=None, **kwargs):\n\u001b[0;32m-> 2651\u001b[0;31m     return gca().bar(\n\u001b[0m\u001b[1;32m   2652\u001b[0m         \u001b[0mx\u001b[0m\u001b[0;34m,\u001b[0m \u001b[0mheight\u001b[0m\u001b[0;34m,\u001b[0m \u001b[0mwidth\u001b[0m\u001b[0;34m=\u001b[0m\u001b[0mwidth\u001b[0m\u001b[0;34m,\u001b[0m \u001b[0mbottom\u001b[0m\u001b[0;34m=\u001b[0m\u001b[0mbottom\u001b[0m\u001b[0;34m,\u001b[0m \u001b[0malign\u001b[0m\u001b[0;34m=\u001b[0m\u001b[0malign\u001b[0m\u001b[0;34m,\u001b[0m\u001b[0;34m\u001b[0m\u001b[0;34m\u001b[0m\u001b[0m\n\u001b[1;32m   2653\u001b[0m         **({\"data\": data} if data is not None else {}), **kwargs)\n",
      "\u001b[0;32m~/anaconda3/lib/python3.9/site-packages/matplotlib/__init__.py\u001b[0m in \u001b[0;36minner\u001b[0;34m(ax, data, *args, **kwargs)\u001b[0m\n\u001b[1;32m   1359\u001b[0m     \u001b[0;32mdef\u001b[0m \u001b[0minner\u001b[0m\u001b[0;34m(\u001b[0m\u001b[0max\u001b[0m\u001b[0;34m,\u001b[0m \u001b[0;34m*\u001b[0m\u001b[0margs\u001b[0m\u001b[0;34m,\u001b[0m \u001b[0mdata\u001b[0m\u001b[0;34m=\u001b[0m\u001b[0;32mNone\u001b[0m\u001b[0;34m,\u001b[0m \u001b[0;34m**\u001b[0m\u001b[0mkwargs\u001b[0m\u001b[0;34m)\u001b[0m\u001b[0;34m:\u001b[0m\u001b[0;34m\u001b[0m\u001b[0;34m\u001b[0m\u001b[0m\n\u001b[1;32m   1360\u001b[0m         \u001b[0;32mif\u001b[0m \u001b[0mdata\u001b[0m \u001b[0;32mis\u001b[0m \u001b[0;32mNone\u001b[0m\u001b[0;34m:\u001b[0m\u001b[0;34m\u001b[0m\u001b[0;34m\u001b[0m\u001b[0m\n\u001b[0;32m-> 1361\u001b[0;31m             \u001b[0;32mreturn\u001b[0m \u001b[0mfunc\u001b[0m\u001b[0;34m(\u001b[0m\u001b[0max\u001b[0m\u001b[0;34m,\u001b[0m \u001b[0;34m*\u001b[0m\u001b[0mmap\u001b[0m\u001b[0;34m(\u001b[0m\u001b[0msanitize_sequence\u001b[0m\u001b[0;34m,\u001b[0m \u001b[0margs\u001b[0m\u001b[0;34m)\u001b[0m\u001b[0;34m,\u001b[0m \u001b[0;34m**\u001b[0m\u001b[0mkwargs\u001b[0m\u001b[0;34m)\u001b[0m\u001b[0;34m\u001b[0m\u001b[0;34m\u001b[0m\u001b[0m\n\u001b[0m\u001b[1;32m   1362\u001b[0m \u001b[0;34m\u001b[0m\u001b[0m\n\u001b[1;32m   1363\u001b[0m         \u001b[0mbound\u001b[0m \u001b[0;34m=\u001b[0m \u001b[0mnew_sig\u001b[0m\u001b[0;34m.\u001b[0m\u001b[0mbind\u001b[0m\u001b[0;34m(\u001b[0m\u001b[0max\u001b[0m\u001b[0;34m,\u001b[0m \u001b[0;34m*\u001b[0m\u001b[0margs\u001b[0m\u001b[0;34m,\u001b[0m \u001b[0;34m**\u001b[0m\u001b[0mkwargs\u001b[0m\u001b[0;34m)\u001b[0m\u001b[0;34m\u001b[0m\u001b[0;34m\u001b[0m\u001b[0m\n",
      "\u001b[0;32m~/anaconda3/lib/python3.9/site-packages/matplotlib/axes/_axes.py\u001b[0m in \u001b[0;36mbar\u001b[0;34m(self, x, height, width, bottom, align, **kwargs)\u001b[0m\n\u001b[1;32m   2302\u001b[0m                 \u001b[0myerr\u001b[0m \u001b[0;34m=\u001b[0m \u001b[0mself\u001b[0m\u001b[0;34m.\u001b[0m\u001b[0m_convert_dx\u001b[0m\u001b[0;34m(\u001b[0m\u001b[0myerr\u001b[0m\u001b[0;34m,\u001b[0m \u001b[0my0\u001b[0m\u001b[0;34m,\u001b[0m \u001b[0my\u001b[0m\u001b[0;34m,\u001b[0m \u001b[0mself\u001b[0m\u001b[0;34m.\u001b[0m\u001b[0mconvert_yunits\u001b[0m\u001b[0;34m)\u001b[0m\u001b[0;34m\u001b[0m\u001b[0;34m\u001b[0m\u001b[0m\n\u001b[1;32m   2303\u001b[0m \u001b[0;34m\u001b[0m\u001b[0m\n\u001b[0;32m-> 2304\u001b[0;31m         x, height, width, y, linewidth, hatch = np.broadcast_arrays(\n\u001b[0m\u001b[1;32m   2305\u001b[0m             \u001b[0;31m# Make args iterable too.\u001b[0m\u001b[0;34m\u001b[0m\u001b[0;34m\u001b[0m\u001b[0m\n\u001b[1;32m   2306\u001b[0m             np.atleast_1d(x), height, width, y, linewidth, hatch)\n",
      "\u001b[0;32m<__array_function__ internals>\u001b[0m in \u001b[0;36mbroadcast_arrays\u001b[0;34m(*args, **kwargs)\u001b[0m\n",
      "\u001b[0;32m~/anaconda3/lib/python3.9/site-packages/numpy/lib/stride_tricks.py\u001b[0m in \u001b[0;36mbroadcast_arrays\u001b[0;34m(subok, *args)\u001b[0m\n\u001b[1;32m    536\u001b[0m     \u001b[0margs\u001b[0m \u001b[0;34m=\u001b[0m \u001b[0;34m[\u001b[0m\u001b[0mnp\u001b[0m\u001b[0;34m.\u001b[0m\u001b[0marray\u001b[0m\u001b[0;34m(\u001b[0m\u001b[0m_m\u001b[0m\u001b[0;34m,\u001b[0m \u001b[0mcopy\u001b[0m\u001b[0;34m=\u001b[0m\u001b[0;32mFalse\u001b[0m\u001b[0;34m,\u001b[0m \u001b[0msubok\u001b[0m\u001b[0;34m=\u001b[0m\u001b[0msubok\u001b[0m\u001b[0;34m)\u001b[0m \u001b[0;32mfor\u001b[0m \u001b[0m_m\u001b[0m \u001b[0;32min\u001b[0m \u001b[0margs\u001b[0m\u001b[0;34m]\u001b[0m\u001b[0;34m\u001b[0m\u001b[0;34m\u001b[0m\u001b[0m\n\u001b[1;32m    537\u001b[0m \u001b[0;34m\u001b[0m\u001b[0m\n\u001b[0;32m--> 538\u001b[0;31m     \u001b[0mshape\u001b[0m \u001b[0;34m=\u001b[0m \u001b[0m_broadcast_shape\u001b[0m\u001b[0;34m(\u001b[0m\u001b[0;34m*\u001b[0m\u001b[0margs\u001b[0m\u001b[0;34m)\u001b[0m\u001b[0;34m\u001b[0m\u001b[0;34m\u001b[0m\u001b[0m\n\u001b[0m\u001b[1;32m    539\u001b[0m \u001b[0;34m\u001b[0m\u001b[0m\n\u001b[1;32m    540\u001b[0m     \u001b[0;32mif\u001b[0m \u001b[0mall\u001b[0m\u001b[0;34m(\u001b[0m\u001b[0marray\u001b[0m\u001b[0;34m.\u001b[0m\u001b[0mshape\u001b[0m \u001b[0;34m==\u001b[0m \u001b[0mshape\u001b[0m \u001b[0;32mfor\u001b[0m \u001b[0marray\u001b[0m \u001b[0;32min\u001b[0m \u001b[0margs\u001b[0m\u001b[0;34m)\u001b[0m\u001b[0;34m:\u001b[0m\u001b[0;34m\u001b[0m\u001b[0;34m\u001b[0m\u001b[0m\n",
      "\u001b[0;32m~/anaconda3/lib/python3.9/site-packages/numpy/lib/stride_tricks.py\u001b[0m in \u001b[0;36m_broadcast_shape\u001b[0;34m(*args)\u001b[0m\n\u001b[1;32m    418\u001b[0m     \u001b[0;31m# use the old-iterator because np.nditer does not handle size 0 arrays\u001b[0m\u001b[0;34m\u001b[0m\u001b[0;34m\u001b[0m\u001b[0m\n\u001b[1;32m    419\u001b[0m     \u001b[0;31m# consistently\u001b[0m\u001b[0;34m\u001b[0m\u001b[0;34m\u001b[0m\u001b[0m\n\u001b[0;32m--> 420\u001b[0;31m     \u001b[0mb\u001b[0m \u001b[0;34m=\u001b[0m \u001b[0mnp\u001b[0m\u001b[0;34m.\u001b[0m\u001b[0mbroadcast\u001b[0m\u001b[0;34m(\u001b[0m\u001b[0;34m*\u001b[0m\u001b[0margs\u001b[0m\u001b[0;34m[\u001b[0m\u001b[0;34m:\u001b[0m\u001b[0;36m32\u001b[0m\u001b[0;34m]\u001b[0m\u001b[0;34m)\u001b[0m\u001b[0;34m\u001b[0m\u001b[0;34m\u001b[0m\u001b[0m\n\u001b[0m\u001b[1;32m    421\u001b[0m     \u001b[0;31m# unfortunately, it cannot handle 32 or more arguments directly\u001b[0m\u001b[0;34m\u001b[0m\u001b[0;34m\u001b[0m\u001b[0m\n\u001b[1;32m    422\u001b[0m     \u001b[0;32mfor\u001b[0m \u001b[0mpos\u001b[0m \u001b[0;32min\u001b[0m \u001b[0mrange\u001b[0m\u001b[0;34m(\u001b[0m\u001b[0;36m32\u001b[0m\u001b[0;34m,\u001b[0m \u001b[0mlen\u001b[0m\u001b[0;34m(\u001b[0m\u001b[0margs\u001b[0m\u001b[0;34m)\u001b[0m\u001b[0;34m,\u001b[0m \u001b[0;36m31\u001b[0m\u001b[0;34m)\u001b[0m\u001b[0;34m:\u001b[0m\u001b[0;34m\u001b[0m\u001b[0;34m\u001b[0m\u001b[0m\n",
      "\u001b[0;31mValueError\u001b[0m: shape mismatch: objects cannot be broadcast to a single shape"
     ]
    },
    {
     "data": {
      "image/png": "[encoded data removed]",
      "text/plain": [
       "<Figure size 432x288 with 1 Axes>"
      ]
     },
     "metadata": {
      "needs_background": "light"
     },
     "output_type": "display_data"
    }
   ],
   "source": [
    "w = 0.4\n",
    "bar1 = np.arange(len(x))\n",
    "bar2 = [i+w for i in bar1]\n",
    "\n",
    "plt.bar(bar1,race_norecidivism_count,w,color = 'green',label = 'people not recidivated')\n",
    "plt.bar(bar2,race_recidivism_count,w,color = 'red',label = 'people recidivated')\n",
    "plt.title(\"Recidivated vs Not Recidivated for each race\")\n",
    "plt.xlabel('Race')\n",
    "plt.ylabel('count')\n",
    "plt.xticks(bar1,x)\n",
    "plt.legend()\n"
   ]
  },
  {
   "cell_type": "code",
   "execution_count": 12,
   "id": "23dbc3a5",
   "metadata": {},
   "outputs": [],
   "source": [
    "#Calculating race wise decile score count\n",
    "x_afam = dataframe_temp.loc[dataframe_temp['race'] == 0,'decile_score'].values\n",
    "x_asian = dataframe_temp.loc[dataframe_temp['race'] == 1,'decile_score'].values\n",
    "x_cau = dataframe_temp.loc[dataframe_temp['race'] == 2,'decile_score'].values\n",
    "x_his = dataframe_temp.loc[dataframe_temp['race'] == 3,'decile_score'].values\n",
    "x_nat = dataframe_temp.loc[dataframe_temp['race'] == 4,'decile_score'].values\n",
    "x_oth = dataframe_temp.loc[dataframe_temp['race'] == 5,'decile_score'].values"
   ]
  },
  {
   "cell_type": "code",
   "execution_count": null,
   "id": "b84ccc4e",
   "metadata": {},
   "outputs": [],
   "source": [
    "plt.rcParams[\"figure.figsize\"] = (15,8)\n",
    "plt.hist([x_afam,x_asian,x_cau,x_his,x_nat,x_oth],width = 0.15)\n",
    "plt.title(\"Histogram of distirbution of decile_score for each race\")\n",
    "plt.xlabel('decile_score')\n",
    "plt.ylabel('count')\n",
    "plt.legend(['African-American','Asian','Caucasian','Hispanic','Native American','Other'])"
   ]
  },
  {
   "cell_type": "code",
   "execution_count": null,
   "id": "dd04e295",
   "metadata": {},
   "outputs": [],
   "source": [
    "plt.rcParams[\"figure.figsize\"] = (15,8)\n",
    "plt.hist([x_afam,x_cau])\n",
    "plt.title(\"Histogram of distirbution of decile_score African Americans vs Caucasians\")\n",
    "plt.xlabel('decile_score')\n",
    "plt.ylabel('count')\n",
    "plt.legend(['African-American','Caucasian'])"
   ]
  },
  {
   "cell_type": "code",
   "execution_count": 13,
   "id": "89c501d4",
   "metadata": {},
   "outputs": [],
   "source": [
    "# Train test split. Train : 2/3 of total dataset\n",
    "data_train,data_test,labels_train,labels_test = train_test_split(dataframe2, Y_labels,test_size = 0.33,random_state = 42,shuffle=False)"
   ]
  },
  {
   "cell_type": "code",
   "execution_count": 14,
   "id": "abd6e805",
   "metadata": {},
   "outputs": [
    {
     "name": "stderr",
     "output_type": "stream",
     "text": [
      "/Users/harivigneshgomathi/anaconda3/lib/python3.9/site-packages/sklearn/linear_model/_logistic.py:763: ConvergenceWarning: lbfgs failed to converge (status=1):\n",
      "STOP: TOTAL NO. of ITERATIONS REACHED LIMIT.\n",
      "\n",
      "Increase the number of iterations (max_iter) or scale the data as shown in:\n",
      "    https://scikit-learn.org/stable/modules/preprocessing.html\n",
      "Please also refer to the documentation for alternative solver options:\n",
      "    https://scikit-learn.org/stable/modules/linear_model.html#logistic-regression\n",
      "  n_iter_i = _check_optimize_result(\n"
     ]
    },
    {
     "data": {
      "text/plain": [
       "LogisticRegression()"
      ]
     },
     "execution_count": 14,
     "metadata": {},
     "output_type": "execute_result"
    }
   ],
   "source": [
    "# Training model using logistic regression\n",
    "lr = LogisticRegression()\n",
    "lr.fit(data_train,labels_train)"
   ]
  },
  {
   "cell_type": "code",
   "execution_count": 15,
   "id": "0a8481bb",
   "metadata": {},
   "outputs": [],
   "source": [
    "# Predicting for test labels\n",
    "pred = lr.predict(data_test)"
   ]
  },
  {
   "cell_type": "code",
   "execution_count": 16,
   "id": "1ab38133",
   "metadata": {},
   "outputs": [],
   "source": [
    "labels_test_arr = labels_test.values"
   ]
  },
  {
   "cell_type": "code",
   "execution_count": 17,
   "id": "ca7b8372",
   "metadata": {},
   "outputs": [
    {
     "name": "stdout",
     "output_type": "stream",
     "text": [
      "Accuracy:  94.5141065830721\n"
     ]
    }
   ],
   "source": [
    "# Calculating accuracy of prediction.\n",
    "# Note: Accuracy of the LR model is tested against Y_labels not against ground truth\n",
    "count = 0\n",
    "for i in range (len(pred)):\n",
    "    if(pred[i] == labels_test_arr[i]):\n",
    "        count+=1\n",
    "\n",
    "avg = (count/len(pred))*100\n",
    "print(\"Accuracy: \",avg)"
   ]
  },
  {
   "cell_type": "code",
   "execution_count": 19,
   "id": "423f9c72",
   "metadata": {},
   "outputs": [
    {
     "data": {
      "text/plain": [
       "2588"
      ]
     },
     "execution_count": 19,
     "metadata": {},
     "output_type": "execute_result"
    }
   ],
   "source": [
    "len(data_train)"
   ]
  },
  {
   "cell_type": "code",
   "execution_count": 20,
   "id": "3744bde9",
   "metadata": {},
   "outputs": [],
   "source": [
    "#Post prediction study vs Ground truth\n",
    "#Calculating race wise false positives. Also for African american and Caucasians for Opprtunity cost /unsure/\n",
    "false_positives = []\n",
    "af_am_fp = 0\n",
    "ca_fp = 0\n",
    "race_false_positives = [0,0,0,0,0,0]\n",
    "for i in range (len(pred)):\n",
    "    if(pred[i] == 1 and recid_status[len(data_train)+i] == 0):\n",
    "        race_false_positives[dataframe2['race'].iloc[i]] += 1\n",
    "        false_positives.append(dataframe2['race'].iloc[i])\n",
    "        if(dataframe2['race'].iloc[i] == 0):\n",
    "            af_am_fp += 1\n",
    "        if(dataframe2['race'].iloc[i] == 2):\n",
    "            ca_fp += 1"
   ]
  },
  {
   "cell_type": "code",
   "execution_count": 21,
   "id": "dfd415d7",
   "metadata": {},
   "outputs": [
    {
     "name": "stdout",
     "output_type": "stream",
     "text": [
      "Ratio of African americans in false positive:  69 / 69\n",
      "Percentage:  100.0\n",
      "Ratio of Caucasians in false positive:  0 / 69\n",
      "Percentage:  0.0\n"
     ]
    }
   ],
   "source": [
    "if(len(false_positives) != 0):\n",
    "    perc_af_am_fp = (af_am_fp / len(false_positives))*100\n",
    "    perc_cauc_fp = (ca_fp / len(false_positives))*100\n",
    "print(\"Ratio of African americans in false positive: \",af_am_fp,\"/\",len(false_positives))\n",
    "print(\"Percentage: \",perc_af_am_fp)\n",
    "print(\"Ratio of Caucasians in false positive: \",ca_fp,\"/\",len(false_positives))\n",
    "print(\"Percentage: \",perc_cauc_fp)"
   ]
  },
  {
   "cell_type": "code",
   "execution_count": 22,
   "id": "c9f4b25f",
   "metadata": {},
   "outputs": [],
   "source": [
    "y = race_false_positives"
   ]
  },
  {
   "cell_type": "code",
   "execution_count": 23,
   "id": "25bab6f6",
   "metadata": {},
   "outputs": [
    {
     "ename": "ValueError",
     "evalue": "shape mismatch: objects cannot be broadcast to a single shape",
     "output_type": "error",
     "traceback": [
      "\u001b[0;31m---------------------------------------------------------------------------\u001b[0m",
      "\u001b[0;31mValueError\u001b[0m                                Traceback (most recent call last)",
      "\u001b[0;32m/var/folders/4_/2p34smp57y1gjj525ytht7dr0000gn/T/ipykernel_18981/1834617932.py\u001b[0m in \u001b[0;36m<module>\u001b[0;34m\u001b[0m\n\u001b[1;32m      1\u001b[0m \u001b[0mplt\u001b[0m\u001b[0;34m.\u001b[0m\u001b[0mrcParams\u001b[0m\u001b[0;34m[\u001b[0m\u001b[0;34m\"figure.figsize\"\u001b[0m\u001b[0;34m]\u001b[0m \u001b[0;34m=\u001b[0m \u001b[0;34m(\u001b[0m\u001b[0;36m8\u001b[0m\u001b[0;34m,\u001b[0m\u001b[0;36m4.5\u001b[0m\u001b[0;34m)\u001b[0m\u001b[0;34m\u001b[0m\u001b[0;34m\u001b[0m\u001b[0m\n\u001b[0;32m----> 2\u001b[0;31m \u001b[0mplt\u001b[0m\u001b[0;34m.\u001b[0m\u001b[0mbar\u001b[0m\u001b[0;34m(\u001b[0m\u001b[0mx\u001b[0m\u001b[0;34m,\u001b[0m \u001b[0my\u001b[0m\u001b[0;34m)\u001b[0m\u001b[0;34m\u001b[0m\u001b[0;34m\u001b[0m\u001b[0m\n\u001b[0m\u001b[1;32m      3\u001b[0m \u001b[0mplt\u001b[0m\u001b[0;34m.\u001b[0m\u001b[0mtitle\u001b[0m\u001b[0;34m(\u001b[0m\u001b[0;34m\"False positive count for each race\"\u001b[0m\u001b[0;34m)\u001b[0m\u001b[0;34m\u001b[0m\u001b[0;34m\u001b[0m\u001b[0m\n",
      "\u001b[0;32m~/anaconda3/lib/python3.9/site-packages/matplotlib/pyplot.py\u001b[0m in \u001b[0;36mbar\u001b[0;34m(x, height, width, bottom, align, data, **kwargs)\u001b[0m\n\u001b[1;32m   2649\u001b[0m         \u001b[0mx\u001b[0m\u001b[0;34m,\u001b[0m \u001b[0mheight\u001b[0m\u001b[0;34m,\u001b[0m \u001b[0mwidth\u001b[0m\u001b[0;34m=\u001b[0m\u001b[0;36m0.8\u001b[0m\u001b[0;34m,\u001b[0m \u001b[0mbottom\u001b[0m\u001b[0;34m=\u001b[0m\u001b[0;32mNone\u001b[0m\u001b[0;34m,\u001b[0m \u001b[0;34m*\u001b[0m\u001b[0;34m,\u001b[0m \u001b[0malign\u001b[0m\u001b[0;34m=\u001b[0m\u001b[0;34m'center'\u001b[0m\u001b[0;34m,\u001b[0m\u001b[0;34m\u001b[0m\u001b[0;34m\u001b[0m\u001b[0m\n\u001b[1;32m   2650\u001b[0m         data=None, **kwargs):\n\u001b[0;32m-> 2651\u001b[0;31m     return gca().bar(\n\u001b[0m\u001b[1;32m   2652\u001b[0m         \u001b[0mx\u001b[0m\u001b[0;34m,\u001b[0m \u001b[0mheight\u001b[0m\u001b[0;34m,\u001b[0m \u001b[0mwidth\u001b[0m\u001b[0;34m=\u001b[0m\u001b[0mwidth\u001b[0m\u001b[0;34m,\u001b[0m \u001b[0mbottom\u001b[0m\u001b[0;34m=\u001b[0m\u001b[0mbottom\u001b[0m\u001b[0;34m,\u001b[0m \u001b[0malign\u001b[0m\u001b[0;34m=\u001b[0m\u001b[0malign\u001b[0m\u001b[0;34m,\u001b[0m\u001b[0;34m\u001b[0m\u001b[0;34m\u001b[0m\u001b[0m\n\u001b[1;32m   2653\u001b[0m         **({\"data\": data} if data is not None else {}), **kwargs)\n",
      "\u001b[0;32m~/anaconda3/lib/python3.9/site-packages/matplotlib/__init__.py\u001b[0m in \u001b[0;36minner\u001b[0;34m(ax, data, *args, **kwargs)\u001b[0m\n\u001b[1;32m   1359\u001b[0m     \u001b[0;32mdef\u001b[0m \u001b[0minner\u001b[0m\u001b[0;34m(\u001b[0m\u001b[0max\u001b[0m\u001b[0;34m,\u001b[0m \u001b[0;34m*\u001b[0m\u001b[0margs\u001b[0m\u001b[0;34m,\u001b[0m \u001b[0mdata\u001b[0m\u001b[0;34m=\u001b[0m\u001b[0;32mNone\u001b[0m\u001b[0;34m,\u001b[0m \u001b[0;34m**\u001b[0m\u001b[0mkwargs\u001b[0m\u001b[0;34m)\u001b[0m\u001b[0;34m:\u001b[0m\u001b[0;34m\u001b[0m\u001b[0;34m\u001b[0m\u001b[0m\n\u001b[1;32m   1360\u001b[0m         \u001b[0;32mif\u001b[0m \u001b[0mdata\u001b[0m \u001b[0;32mis\u001b[0m \u001b[0;32mNone\u001b[0m\u001b[0;34m:\u001b[0m\u001b[0;34m\u001b[0m\u001b[0;34m\u001b[0m\u001b[0m\n\u001b[0;32m-> 1361\u001b[0;31m             \u001b[0;32mreturn\u001b[0m \u001b[0mfunc\u001b[0m\u001b[0;34m(\u001b[0m\u001b[0max\u001b[0m\u001b[0;34m,\u001b[0m \u001b[0;34m*\u001b[0m\u001b[0mmap\u001b[0m\u001b[0;34m(\u001b[0m\u001b[0msanitize_sequence\u001b[0m\u001b[0;34m,\u001b[0m \u001b[0margs\u001b[0m\u001b[0;34m)\u001b[0m\u001b[0;34m,\u001b[0m \u001b[0;34m**\u001b[0m\u001b[0mkwargs\u001b[0m\u001b[0;34m)\u001b[0m\u001b[0;34m\u001b[0m\u001b[0;34m\u001b[0m\u001b[0m\n\u001b[0m\u001b[1;32m   1362\u001b[0m \u001b[0;34m\u001b[0m\u001b[0m\n\u001b[1;32m   1363\u001b[0m         \u001b[0mbound\u001b[0m \u001b[0;34m=\u001b[0m \u001b[0mnew_sig\u001b[0m\u001b[0;34m.\u001b[0m\u001b[0mbind\u001b[0m\u001b[0;34m(\u001b[0m\u001b[0max\u001b[0m\u001b[0;34m,\u001b[0m \u001b[0;34m*\u001b[0m\u001b[0margs\u001b[0m\u001b[0;34m,\u001b[0m \u001b[0;34m**\u001b[0m\u001b[0mkwargs\u001b[0m\u001b[0;34m)\u001b[0m\u001b[0;34m\u001b[0m\u001b[0;34m\u001b[0m\u001b[0m\n",
      "\u001b[0;32m~/anaconda3/lib/python3.9/site-packages/matplotlib/axes/_axes.py\u001b[0m in \u001b[0;36mbar\u001b[0;34m(self, x, height, width, bottom, align, **kwargs)\u001b[0m\n\u001b[1;32m   2302\u001b[0m                 \u001b[0myerr\u001b[0m \u001b[0;34m=\u001b[0m \u001b[0mself\u001b[0m\u001b[0;34m.\u001b[0m\u001b[0m_convert_dx\u001b[0m\u001b[0;34m(\u001b[0m\u001b[0myerr\u001b[0m\u001b[0;34m,\u001b[0m \u001b[0my0\u001b[0m\u001b[0;34m,\u001b[0m \u001b[0my\u001b[0m\u001b[0;34m,\u001b[0m \u001b[0mself\u001b[0m\u001b[0;34m.\u001b[0m\u001b[0mconvert_yunits\u001b[0m\u001b[0;34m)\u001b[0m\u001b[0;34m\u001b[0m\u001b[0;34m\u001b[0m\u001b[0m\n\u001b[1;32m   2303\u001b[0m \u001b[0;34m\u001b[0m\u001b[0m\n\u001b[0;32m-> 2304\u001b[0;31m         x, height, width, y, linewidth, hatch = np.broadcast_arrays(\n\u001b[0m\u001b[1;32m   2305\u001b[0m             \u001b[0;31m# Make args iterable too.\u001b[0m\u001b[0;34m\u001b[0m\u001b[0;34m\u001b[0m\u001b[0m\n\u001b[1;32m   2306\u001b[0m             np.atleast_1d(x), height, width, y, linewidth, hatch)\n",
      "\u001b[0;32m<__array_function__ internals>\u001b[0m in \u001b[0;36mbroadcast_arrays\u001b[0;34m(*args, **kwargs)\u001b[0m\n",
      "\u001b[0;32m~/anaconda3/lib/python3.9/site-packages/numpy/lib/stride_tricks.py\u001b[0m in \u001b[0;36mbroadcast_arrays\u001b[0;34m(subok, *args)\u001b[0m\n\u001b[1;32m    536\u001b[0m     \u001b[0margs\u001b[0m \u001b[0;34m=\u001b[0m \u001b[0;34m[\u001b[0m\u001b[0mnp\u001b[0m\u001b[0;34m.\u001b[0m\u001b[0marray\u001b[0m\u001b[0;34m(\u001b[0m\u001b[0m_m\u001b[0m\u001b[0;34m,\u001b[0m \u001b[0mcopy\u001b[0m\u001b[0;34m=\u001b[0m\u001b[0;32mFalse\u001b[0m\u001b[0;34m,\u001b[0m \u001b[0msubok\u001b[0m\u001b[0;34m=\u001b[0m\u001b[0msubok\u001b[0m\u001b[0;34m)\u001b[0m \u001b[0;32mfor\u001b[0m \u001b[0m_m\u001b[0m \u001b[0;32min\u001b[0m \u001b[0margs\u001b[0m\u001b[0;34m]\u001b[0m\u001b[0;34m\u001b[0m\u001b[0;34m\u001b[0m\u001b[0m\n\u001b[1;32m    537\u001b[0m \u001b[0;34m\u001b[0m\u001b[0m\n\u001b[0;32m--> 538\u001b[0;31m     \u001b[0mshape\u001b[0m \u001b[0;34m=\u001b[0m \u001b[0m_broadcast_shape\u001b[0m\u001b[0;34m(\u001b[0m\u001b[0;34m*\u001b[0m\u001b[0margs\u001b[0m\u001b[0;34m)\u001b[0m\u001b[0;34m\u001b[0m\u001b[0;34m\u001b[0m\u001b[0m\n\u001b[0m\u001b[1;32m    539\u001b[0m \u001b[0;34m\u001b[0m\u001b[0m\n\u001b[1;32m    540\u001b[0m     \u001b[0;32mif\u001b[0m \u001b[0mall\u001b[0m\u001b[0;34m(\u001b[0m\u001b[0marray\u001b[0m\u001b[0;34m.\u001b[0m\u001b[0mshape\u001b[0m \u001b[0;34m==\u001b[0m \u001b[0mshape\u001b[0m \u001b[0;32mfor\u001b[0m \u001b[0marray\u001b[0m \u001b[0;32min\u001b[0m \u001b[0margs\u001b[0m\u001b[0;34m)\u001b[0m\u001b[0;34m:\u001b[0m\u001b[0;34m\u001b[0m\u001b[0;34m\u001b[0m\u001b[0m\n",
      "\u001b[0;32m~/anaconda3/lib/python3.9/site-packages/numpy/lib/stride_tricks.py\u001b[0m in \u001b[0;36m_broadcast_shape\u001b[0;34m(*args)\u001b[0m\n\u001b[1;32m    418\u001b[0m     \u001b[0;31m# use the old-iterator because np.nditer does not handle size 0 arrays\u001b[0m\u001b[0;34m\u001b[0m\u001b[0;34m\u001b[0m\u001b[0m\n\u001b[1;32m    419\u001b[0m     \u001b[0;31m# consistently\u001b[0m\u001b[0;34m\u001b[0m\u001b[0;34m\u001b[0m\u001b[0m\n\u001b[0;32m--> 420\u001b[0;31m     \u001b[0mb\u001b[0m \u001b[0;34m=\u001b[0m \u001b[0mnp\u001b[0m\u001b[0;34m.\u001b[0m\u001b[0mbroadcast\u001b[0m\u001b[0;34m(\u001b[0m\u001b[0;34m*\u001b[0m\u001b[0margs\u001b[0m\u001b[0;34m[\u001b[0m\u001b[0;34m:\u001b[0m\u001b[0;36m32\u001b[0m\u001b[0;34m]\u001b[0m\u001b[0;34m)\u001b[0m\u001b[0;34m\u001b[0m\u001b[0;34m\u001b[0m\u001b[0m\n\u001b[0m\u001b[1;32m    421\u001b[0m     \u001b[0;31m# unfortunately, it cannot handle 32 or more arguments directly\u001b[0m\u001b[0;34m\u001b[0m\u001b[0;34m\u001b[0m\u001b[0m\n\u001b[1;32m    422\u001b[0m     \u001b[0;32mfor\u001b[0m \u001b[0mpos\u001b[0m \u001b[0;32min\u001b[0m \u001b[0mrange\u001b[0m\u001b[0;34m(\u001b[0m\u001b[0;36m32\u001b[0m\u001b[0;34m,\u001b[0m \u001b[0mlen\u001b[0m\u001b[0;34m(\u001b[0m\u001b[0margs\u001b[0m\u001b[0;34m)\u001b[0m\u001b[0;34m,\u001b[0m \u001b[0;36m31\u001b[0m\u001b[0;34m)\u001b[0m\u001b[0;34m:\u001b[0m\u001b[0;34m\u001b[0m\u001b[0;34m\u001b[0m\u001b[0m\n",
      "\u001b[0;31mValueError\u001b[0m: shape mismatch: objects cannot be broadcast to a single shape"
     ]
    },
    {
     "data": {
      "image/png": "[encoded data removed]",
      "text/plain": [
       "<Figure size 576x324 with 1 Axes>"
      ]
     },
     "metadata": {
      "needs_background": "light"
     },
     "output_type": "display_data"
    }
   ],
   "source": [
    "plt.rcParams[\"figure.figsize\"] = (8,4.5)\n",
    "plt.bar(x, y)\n",
    "plt.title(\"False positive count for each race\")"
   ]
  },
  {
   "cell_type": "code",
   "execution_count": null,
   "id": "07d612b3",
   "metadata": {},
   "outputs": [],
   "source": [
    "# Accuracy of prediction vs ground Truth\n",
    "fp = 0\n",
    "fn = 0\n",
    "tp = 0\n",
    "tn = 0\n",
    "for i in range (len(pred)):\n",
    "    if(pred[i] == 1 and recid_status[len(data_train)+i] == 0):\n",
    "        fp += 1\n",
    "    if(pred[i] == 0 and recid_status[len(data_train)+i] == 1):\n",
    "        fn += 1\n",
    "    if(pred[i] == 1 and recid_status[len(data_train)+i] == 1):\n",
    "        tp += 1\n",
    "    if(pred[i] == 0 and recid_status[len(data_train)+i] == 0):\n",
    "        tn += 1"
   ]
  },
  {
   "cell_type": "code",
   "execution_count": null,
   "id": "5b3ce2f6",
   "metadata": {},
   "outputs": [],
   "source": [
    "plt.bar(['fp','fn','tp','tn'],[fp,fn,tp,tn])\n",
    "plt.title(\"Prediction vs Actual\")\n",
    "plt.xlabel('accuracy status')\n",
    "plt.ylabel('count')"
   ]
  },
  {
   "cell_type": "code",
   "execution_count": null,
   "id": "1846a30c",
   "metadata": {},
   "outputs": [],
   "source": [
    "fp_p = (fp/len(pred))*100\n",
    "fn_p = (fn/len(pred))*100\n",
    "acc = ((tp+tn)/len(pred))*100"
   ]
  },
  {
   "cell_type": "code",
   "execution_count": null,
   "id": "5dc138e5",
   "metadata": {},
   "outputs": [],
   "source": [
    "print(fp_p,fn_p,acc)"
   ]
  },
  {
   "cell_type": "code",
   "execution_count": null,
   "id": "a4d3cdfa",
   "metadata": {},
   "outputs": [],
   "source": [
    "Afam_Dataframe_norec = dataframe3[(dataframe3['race'] == 0) & (dataframe3['two_year_recid'] == 0)]\n",
    "Afam_Dataframe_rec = dataframe3[(dataframe3['race'] == 0) & (dataframe3['two_year_recid'] == 1)]"
   ]
  },
  {
   "cell_type": "code",
   "execution_count": null,
   "id": "54bdf5ae",
   "metadata": {},
   "outputs": [],
   "source": [
    "Cau_Dataframe_norec = dataframe3[(dataframe3['race'] == 2) & (dataframe3['two_year_recid'] == 0)]\n",
    "Cau_Dataframe_rec = dataframe3[(dataframe3['race'] == 2) & (dataframe3['two_year_recid'] == 1)]"
   ]
  },
  {
   "cell_type": "code",
   "execution_count": null,
   "id": "92116dee",
   "metadata": {},
   "outputs": [],
   "source": [
    "print(Afam_Dataframe_norec.shape,Afam_Dataframe_rec.shape,Cau_Dataframe_norec.shape,Cau_Dataframe_rec.shape)"
   ]
  },
  {
   "cell_type": "code",
   "execution_count": null,
   "id": "bb98010d",
   "metadata": {},
   "outputs": [],
   "source": [
    "Afam_Dataframe_norec_t = Afam_Dataframe_norec.sample(n=966)\n",
    "Afam_Dataframe_rec_t = Afam_Dataframe_rec.sample(n=966)\n",
    "Cau_Dataframe_norec_t = Cau_Dataframe_norec.sample(n=966)\n",
    "Cau_Dataframe_rec_t = Cau_Dataframe_rec.sample(n=966)"
   ]
  },
  {
   "cell_type": "code",
   "execution_count": null,
   "id": "b974737f",
   "metadata": {},
   "outputs": [],
   "source": [
    "Fin_Dataframe = pd.concat([Afam_Dataframe_norec_t,Afam_Dataframe_rec_t,Cau_Dataframe_norec_t,Cau_Dataframe_rec_t],axis = 0)"
   ]
  },
  {
   "cell_type": "code",
   "execution_count": null,
   "id": "dc67fc6f",
   "metadata": {},
   "outputs": [],
   "source": [
    "Fin_Dataframe"
   ]
  },
  {
   "cell_type": "code",
   "execution_count": null,
   "id": "9755d6e3",
   "metadata": {},
   "outputs": [],
   "source": [
    "Fin_labels = []\n",
    "for i in range(len(Fin_Dataframe)):\n",
    "    if(Fin_Dataframe['decile_score'].iloc[i] < 5):\n",
    "        Fin_labels.append(0)\n",
    "    else:\n",
    "        Fin_labels.append(1)\n",
    "Fin_labels = pd.DataFrame(Fin_labels)"
   ]
  },
  {
   "cell_type": "code",
   "execution_count": null,
   "id": "afa7aad9",
   "metadata": {},
   "outputs": [],
   "source": [
    "Fin_Data_train,Fin_Data_test,Fin_labels_train,Fin_labels_test = train_test_split(Fin_Dataframe,Fin_labels,test_size = 0.33,shuffle = False)"
   ]
  },
  {
   "cell_type": "code",
   "execution_count": null,
   "id": "f943d760",
   "metadata": {},
   "outputs": [],
   "source": [
    "lr.fit(Fin_Data_train,Fin_labels_train)"
   ]
  },
  {
   "cell_type": "code",
   "execution_count": null,
   "id": "c8010445",
   "metadata": {},
   "outputs": [],
   "source": [
    "Fin_pred = lr.predict(Fin_Data_test)"
   ]
  },
  {
   "cell_type": "code",
   "execution_count": null,
   "id": "731fa869",
   "metadata": {},
   "outputs": [],
   "source": [
    "Fin_labels_test_arr = Fin_labels_test.values"
   ]
  },
  {
   "cell_type": "code",
   "execution_count": null,
   "id": "adb80a5a",
   "metadata": {},
   "outputs": [],
   "source": [
    "count2 = 0\n",
    "for i in range (len(Fin_pred)):\n",
    "    if(Fin_pred[i] == Fin_labels_test_arr[i]):\n",
    "        count2+=1\n",
    "\n",
    "avg = (count2/len(Fin_pred))*100\n",
    "print(\"Accuracy: \",avg)"
   ]
  },
  {
   "cell_type": "code",
   "execution_count": null,
   "id": "6fb6a050",
   "metadata": {},
   "outputs": [],
   "source": [
    "Fin_Dataframe.to_csv(\"COMPAS_equal_dist.csv\")"
   ]
  },
  {
   "cell_type": "code",
   "execution_count": null,
   "id": "d986d156",
   "metadata": {},
   "outputs": [],
   "source": []
  }
 ],
 "metadata": {
  "kernelspec": {
   "display_name": "Python 3 (ipykernel)",
   "language": "python",
   "name": "python3"
  },
  "language_info": {
   "codemirror_mode": {
    "name": "ipython",
    "version": 3
   },
   "file_extension": ".py",
   "mimetype": "text/x-python",
   "name": "python",
   "nbconvert_exporter": "python",
   "pygments_lexer": "ipython3",
   "version": "3.9.7"
  }
 },
 "nbformat": 4,
 "nbformat_minor": 5
}
